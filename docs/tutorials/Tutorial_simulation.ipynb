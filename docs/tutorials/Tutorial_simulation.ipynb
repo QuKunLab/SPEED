{
 "cells": [
  {
   "cell_type": "markdown",
   "id": "acfd5e44-28df-4b97-bef7-a81e579de1cb",
   "metadata": {},
   "source": [
    "# SPEED workflow: Training on the simulation data"
   ]
  },
  {
   "cell_type": "markdown",
   "id": "fb560917-c4b2-4191-9513-819ee52bdab2",
   "metadata": {},
   "source": [
    "Dataset: The simulated dataset ([here](https://doi.org/10.5281/zenodo.14948507))"
   ]
  },
  {
   "cell_type": "code",
   "execution_count": 1,
   "id": "9d0fbb68-1076-4260-8ab8-220564bfc668",
   "metadata": {},
   "outputs": [
    {
     "name": "stdout",
     "output_type": "stream",
     "text": [
      "Whether GPU is detected: True\n",
      "CUDA version: 11.7\n"
     ]
    }
   ],
   "source": [
    "import torch\n",
    "\n",
    "print(\"Whether GPU is detected:\", torch.cuda.is_available())\n",
    "print(\"CUDA version:\", torch.version.cuda)"
   ]
  },
  {
   "cell_type": "code",
   "execution_count": 2,
   "id": "cee6a35d-8353-4a43-be06-acb3e4feee2a",
   "metadata": {},
   "outputs": [],
   "source": [
    "import os\n",
    "import sys\n",
    "adata_input_path = 'simulation/strip_pseudospot_truth_dropout_filter.h5ad'\n",
    "pretrain_input_path = 'simulation/peak_ref.h5ad'\n",
    "adata_output_path = './simulation_out'"
   ]
  },
  {
   "cell_type": "code",
   "execution_count": 3,
   "id": "fb97dfd6-c9e6-4197-ad76-e5b74585c211",
   "metadata": {
    "tags": []
   },
   "outputs": [],
   "source": [
    "import SPEED\n",
    "import scanpy as sc"
   ]
  },
  {
   "cell_type": "markdown",
   "id": "aea756e1-95ac-47da-8a3b-d41d9aad3c65",
   "metadata": {},
   "source": [
    "## load the data"
   ]
  },
  {
   "cell_type": "markdown",
   "id": "6c3cf0f1-e168-4bd1-a581-7fa2eb4ed6cc",
   "metadata": {},
   "source": [
    "Load the spatial epigenomic data and the corresponding single-cell data. \n",
    "\n",
    "Make sure their peak sets **have an overlap**, and make sure that the single-cell data has already been trained in stage 1. The trained single-cell peak embeddings should be stored in `adata_sc.varm[peak_name]`"
   ]
  },
  {
   "cell_type": "code",
   "execution_count": 4,
   "id": "bf2f2722-08aa-4f58-adc0-9f4c4993e778",
   "metadata": {},
   "outputs": [
    {
     "name": "stdout",
     "output_type": "stream",
     "text": [
      "WARNING: Your filename has more than two extensions: ['.2_0', '.2_input1_cosine_lr1e-05_batch16384_32768_fcluster0_05_ds05', '.h5ad'].\n",
      "Only considering the two last: ['.2_input1_cosine_lr1e-05_batch16384_32768_fcluster0_05_ds05', '.h5ad'].\n",
      "WARNING: Your filename has more than two extensions: ['.2_0', '.2_input1_cosine_lr1e-05_batch16384_32768_fcluster0_05_ds05', '.h5ad'].\n",
      "Only considering the two last: ['.2_input1_cosine_lr1e-05_batch16384_32768_fcluster0_05_ds05', '.h5ad'].\n"
     ]
    }
   ],
   "source": [
    "adata = sc.read(adata_input_path)\n",
    "adata_peak = sc.read(pretrain_input_path)"
   ]
  },
  {
   "cell_type": "markdown",
   "id": "b955f535-bbd5-41a9-91ca-ba0c4461da25",
   "metadata": {},
   "source": [
    "Process spatial and single-cell epigenomics data by selecting common features."
   ]
  },
  {
   "cell_type": "code",
   "execution_count": 5,
   "id": "84bb7f79-eb6b-409c-8c37-ee2b039d420e",
   "metadata": {
    "tags": []
   },
   "outputs": [],
   "source": [
    "adata,adata_sc = SPEED.process(adata,adata_peak)"
   ]
  },
  {
   "cell_type": "code",
   "execution_count": 6,
   "id": "b00cc055-a94e-4133-a75d-92bb64ed5262",
   "metadata": {},
   "outputs": [
    {
     "data": {
      "text/plain": [
       "View of AnnData object with n_obs × n_vars = 133140 × 29003\n",
       "    obs: 'Sample', 'Clusters', 'val'\n",
       "    var: 'val'\n",
       "    obsm: 'cell_embedding'\n",
       "    varm: 'peak_embedding'"
      ]
     },
     "execution_count": 6,
     "metadata": {},
     "output_type": "execute_result"
    }
   ],
   "source": [
    "adata_sc"
   ]
  },
  {
   "cell_type": "markdown",
   "id": "b44ff146-59cd-481d-903b-d10ba636d488",
   "metadata": {},
   "source": [
    "## Initialize the SPEED model"
   ]
  },
  {
   "cell_type": "markdown",
   "id": "f94dd582-da8b-444b-9878-2ec6d0afe1c6",
   "metadata": {},
   "source": [
    "Initialize the model with spatial data and pre-trained single-cell data. \n",
    "\n",
    "`is_spatial` is set to `True` during the second stage of training on spatial data. (`is_spatial = False` indicates stage 1 training, while `is_spatial = True` indicates stage 2 training)\n",
    "\n",
    "`k_degree` is the degree of spatial neighbor used for spatial relative position encoding. For data with a 50 μm resolution, k is defaulted to 5. For data with a 20 μm resolution, k is recommanded to 12.\n",
    "\n",
    "If there is no paired H&E staining image, set `image` to None."
   ]
  },
  {
   "cell_type": "code",
   "execution_count": 7,
   "id": "3aab3d69-fa9d-40f3-86e0-abc5ba73ee55",
   "metadata": {},
   "outputs": [
    {
     "name": "stdout",
     "output_type": "stream",
     "text": [
      "matrix ready...\n",
      "use 0-1 matrix...\n",
      "cell_features ready...\n",
      "peak features ready...\n"
     ]
    }
   ],
   "source": [
    "speed = SPEED.SPEED(adata,image=None,k_degree=5, is_spatial=True, adata_sc=adata_sc,peak_name='peak_embedding')"
   ]
  },
  {
   "cell_type": "markdown",
   "id": "e7697840-894d-4381-9ee9-20c23172e0e8",
   "metadata": {},
   "source": [
    "### Spliting training and validation sets.\n",
    "\n",
    "`num_workers` is the number of subprocesses for data loading (default = 4).\n",
    "\n",
    "`data_type` sets the input data format used by SPEED. SPEED will handle this format internally, so no external action is required from the user. For lower GPU memory and faster training, it is recommended to set `dense = False` (default) when training on GPU, and `dense = True` when training on CPU.\n",
    "\n",
    "`batch_size_cell` and `batch_size_peak` are the batch sizes at the cell-level and peak-level. SPEED will choose automatically according to dataset size, but if the batch size is too large for your GPU, you can reduce it manually.\n",
    "\n",
    "`split_ratio` sets the proportion of the validation set at both the cell level and peak level. (default = [1/6, 1/6])"
   ]
  },
  {
   "cell_type": "code",
   "execution_count": 8,
   "id": "6d647a57-be9c-469b-bbfd-ffc2945999f6",
   "metadata": {},
   "outputs": [
    {
     "name": "stdout",
     "output_type": "stream",
     "text": [
      "batch_size_cell = 32, batch_size_peak = 4096\n",
      "split ready...\n",
      "labels ready...\n",
      "peak embedding is given\n",
      "dataset ready...\n"
     ]
    }
   ],
   "source": [
    "speed.setup_data(num_workers=4)"
   ]
  },
  {
   "cell_type": "markdown",
   "id": "0d8e7546-40ff-4706-af11-8b7c6dfec1f4",
   "metadata": {},
   "source": [
    "### Build the neural network model for SPEED.\n",
    "\n",
    "`emb_features` is the number of embedding features (default = 32).\n",
    "\n",
    "`dropout_p` is the dropout probability of the model. For spatial data training, `dropout_p` is recommended to 0.4."
   ]
  },
  {
   "cell_type": "code",
   "execution_count": 9,
   "id": "dc4544c8-01a5-4442-9659-bf78898bf5a6",
   "metadata": {},
   "outputs": [],
   "source": [
    "speed.build_model(emb_features=32, dropout_p=0.4)"
   ]
  },
  {
   "cell_type": "markdown",
   "id": "707f862d-bdcb-4524-a2b3-c35267b8994f",
   "metadata": {},
   "source": [
    "## Train the SPEED model"
   ]
  },
  {
   "cell_type": "markdown",
   "id": "c439ed49-af97-4ebc-8e48-457aea122ff6",
   "metadata": {},
   "source": [
    "`lr` is the learning rate. `device` specifies whether to train with GPU or CPU.\n",
    "\n",
    "`epoch_num` is the maximum number of training epochs (default = 500). If no improvement is observed on the validation set within `epo_max` epochs, training is considered converged and will stop (default `epo_max=30`)."
   ]
  },
  {
   "cell_type": "markdown",
   "id": "30a01666-c8fc-4ed6-a2d8-1613ebfada2e",
   "metadata": {},
   "source": [
    "`alpha` represents the weight of the constraint on the similarity between peak embeddings of spatial data. The default value is 10. A larger `alpha` means the model relies more on single-cell prior information. \n",
    "\n",
    "`beta` represents the importance of image information for spot embedding. The default value is 1. A larger `beta` means the model relies more on image information."
   ]
  },
  {
   "cell_type": "code",
   "execution_count": 10,
   "id": "fdb585bc-9e58-461c-8d74-cbc6e805ffb5",
   "metadata": {
    "scrolled": true,
    "tags": []
   },
   "outputs": [
    {
     "name": "stdout",
     "output_type": "stream",
     "text": [
      "Use spatial information...\n",
      "Starting training...\n",
      "trainset:  (334, 29003) (24170, 400)\n"
     ]
    },
    {
     "name": "stderr",
     "output_type": "stream",
     "text": [
      "  0%|          | 0/11 [00:00<?, ?it/s]/home/wangshuyan/workspace/project/SPEED/upload/environment/SPEED/SPEED/utils.py:104: UserWarning: Sparse CSR tensor support is in beta state. If you miss a functionality in the sparse tensor support, please submit a feature request to https://github.com/pytorch/pytorch/issues. (Triggered internally at ../aten/src/ATen/SparseCsrTensorImpl.cpp:54.)\n",
      "  return torch.sparse_csr_tensor(temp.indptr,temp.indices, temp.data, size=temp.shape)\n",
      "100%|██████████| 11/11 [00:12<00:00,  1.15s/it]\n",
      "100%|██████████| 3/3 [00:03<00:00,  1.21s/it]\n"
     ]
    },
    {
     "name": "stdout",
     "output_type": "stream",
     "text": [
      "Epoch[1/500], Loss: 3.98229, Val Loss: 2.55456, \n"
     ]
    },
    {
     "name": "stderr",
     "output_type": "stream",
     "text": [
      "100%|██████████| 11/11 [00:12<00:00,  1.10s/it]\n",
      "100%|██████████| 3/3 [00:04<00:00,  1.34s/it]\n"
     ]
    },
    {
     "name": "stdout",
     "output_type": "stream",
     "text": [
      "Epoch[2/500], Loss: 3.64662, Val Loss: 2.28905, \n"
     ]
    },
    {
     "name": "stderr",
     "output_type": "stream",
     "text": [
      "100%|██████████| 11/11 [00:12<00:00,  1.14s/it]\n",
      "100%|██████████| 3/3 [00:03<00:00,  1.16s/it]\n"
     ]
    },
    {
     "name": "stdout",
     "output_type": "stream",
     "text": [
      "Epoch[3/500], Loss: 3.42653, Val Loss: 2.13255, \n"
     ]
    },
    {
     "name": "stderr",
     "output_type": "stream",
     "text": [
      "100%|██████████| 11/11 [00:11<00:00,  1.09s/it]\n",
      "100%|██████████| 3/3 [00:03<00:00,  1.21s/it]\n"
     ]
    },
    {
     "name": "stdout",
     "output_type": "stream",
     "text": [
      "Epoch[4/500], Loss: 3.24524, Val Loss: 2.04066, \n"
     ]
    },
    {
     "name": "stderr",
     "output_type": "stream",
     "text": [
      "100%|██████████| 11/11 [00:11<00:00,  1.06s/it]\n",
      "100%|██████████| 3/3 [00:03<00:00,  1.21s/it]\n"
     ]
    },
    {
     "name": "stdout",
     "output_type": "stream",
     "text": [
      "Epoch[5/500], Loss: 3.09712, Val Loss: 1.93174, \n"
     ]
    },
    {
     "name": "stderr",
     "output_type": "stream",
     "text": [
      "100%|██████████| 11/11 [00:11<00:00,  1.08s/it]\n",
      "100%|██████████| 3/3 [00:03<00:00,  1.20s/it]\n"
     ]
    },
    {
     "name": "stdout",
     "output_type": "stream",
     "text": [
      "Epoch[6/500], Loss: 2.96608, Val Loss: 1.85860, \n"
     ]
    },
    {
     "name": "stderr",
     "output_type": "stream",
     "text": [
      "100%|██████████| 11/11 [00:11<00:00,  1.08s/it]\n",
      "100%|██████████| 3/3 [00:03<00:00,  1.19s/it]\n"
     ]
    },
    {
     "name": "stdout",
     "output_type": "stream",
     "text": [
      "Epoch[7/500], Loss: 2.85359, Val Loss: 1.79467, \n"
     ]
    },
    {
     "name": "stderr",
     "output_type": "stream",
     "text": [
      "100%|██████████| 11/11 [00:11<00:00,  1.05s/it]\n",
      "100%|██████████| 3/3 [00:03<00:00,  1.23s/it]\n"
     ]
    },
    {
     "name": "stdout",
     "output_type": "stream",
     "text": [
      "Epoch[8/500], Loss: 2.75372, Val Loss: 1.75309, \n"
     ]
    },
    {
     "name": "stderr",
     "output_type": "stream",
     "text": [
      "100%|██████████| 11/11 [00:11<00:00,  1.07s/it]\n",
      "100%|██████████| 3/3 [00:03<00:00,  1.19s/it]\n"
     ]
    },
    {
     "name": "stdout",
     "output_type": "stream",
     "text": [
      "Epoch[9/500], Loss: 2.66593, Val Loss: 1.71310, \n"
     ]
    },
    {
     "name": "stderr",
     "output_type": "stream",
     "text": [
      "100%|██████████| 11/11 [00:11<00:00,  1.06s/it]\n",
      "100%|██████████| 3/3 [00:03<00:00,  1.19s/it]\n"
     ]
    },
    {
     "name": "stdout",
     "output_type": "stream",
     "text": [
      "Epoch[10/500], Loss: 2.58803, Val Loss: 1.67896, \n"
     ]
    },
    {
     "name": "stderr",
     "output_type": "stream",
     "text": [
      "100%|██████████| 11/11 [00:11<00:00,  1.06s/it]\n",
      "100%|██████████| 3/3 [00:03<00:00,  1.16s/it]\n"
     ]
    },
    {
     "name": "stdout",
     "output_type": "stream",
     "text": [
      "Epoch[11/500], Loss: 2.51448, Val Loss: 1.64935, \n"
     ]
    },
    {
     "name": "stderr",
     "output_type": "stream",
     "text": [
      "100%|██████████| 11/11 [00:11<00:00,  1.07s/it]\n",
      "100%|██████████| 3/3 [00:03<00:00,  1.23s/it]\n"
     ]
    },
    {
     "name": "stdout",
     "output_type": "stream",
     "text": [
      "Epoch[12/500], Loss: 2.45127, Val Loss: 1.60891, \n"
     ]
    },
    {
     "name": "stderr",
     "output_type": "stream",
     "text": [
      "100%|██████████| 11/11 [00:11<00:00,  1.04s/it]\n",
      "100%|██████████| 3/3 [00:03<00:00,  1.20s/it]\n"
     ]
    },
    {
     "name": "stdout",
     "output_type": "stream",
     "text": [
      "Epoch[13/500], Loss: 2.39143, Val Loss: 1.59935, \n"
     ]
    },
    {
     "name": "stderr",
     "output_type": "stream",
     "text": [
      "100%|██████████| 11/11 [00:12<00:00,  1.15s/it]\n",
      "100%|██████████| 3/3 [00:03<00:00,  1.16s/it]\n"
     ]
    },
    {
     "name": "stdout",
     "output_type": "stream",
     "text": [
      "Epoch[14/500], Loss: 2.33771, Val Loss: 1.55526, \n"
     ]
    },
    {
     "name": "stderr",
     "output_type": "stream",
     "text": [
      "100%|██████████| 11/11 [00:12<00:00,  1.10s/it]\n",
      "100%|██████████| 3/3 [00:03<00:00,  1.22s/it]\n"
     ]
    },
    {
     "name": "stdout",
     "output_type": "stream",
     "text": [
      "Epoch[15/500], Loss: 2.28743, Val Loss: 1.55805, \n"
     ]
    },
    {
     "name": "stderr",
     "output_type": "stream",
     "text": [
      "100%|██████████| 11/11 [00:11<00:00,  1.08s/it]\n",
      "100%|██████████| 3/3 [00:03<00:00,  1.19s/it]\n"
     ]
    },
    {
     "name": "stdout",
     "output_type": "stream",
     "text": [
      "Epoch[16/500], Loss: 2.24095, Val Loss: 1.52413, \n"
     ]
    },
    {
     "name": "stderr",
     "output_type": "stream",
     "text": [
      "100%|██████████| 11/11 [00:11<00:00,  1.09s/it]\n",
      "100%|██████████| 3/3 [00:03<00:00,  1.22s/it]\n"
     ]
    },
    {
     "name": "stdout",
     "output_type": "stream",
     "text": [
      "Epoch[17/500], Loss: 2.19751, Val Loss: 1.52787, \n"
     ]
    },
    {
     "name": "stderr",
     "output_type": "stream",
     "text": [
      "100%|██████████| 11/11 [00:12<00:00,  1.11s/it]\n",
      "100%|██████████| 3/3 [00:03<00:00,  1.21s/it]\n"
     ]
    },
    {
     "name": "stdout",
     "output_type": "stream",
     "text": [
      "Epoch[18/500], Loss: 2.15650, Val Loss: 1.50113, \n"
     ]
    },
    {
     "name": "stderr",
     "output_type": "stream",
     "text": [
      "100%|██████████| 11/11 [00:11<00:00,  1.07s/it]\n",
      "100%|██████████| 3/3 [00:03<00:00,  1.20s/it]\n"
     ]
    },
    {
     "name": "stdout",
     "output_type": "stream",
     "text": [
      "Epoch[19/500], Loss: 2.11963, Val Loss: 1.48201, \n"
     ]
    },
    {
     "name": "stderr",
     "output_type": "stream",
     "text": [
      "100%|██████████| 11/11 [00:11<00:00,  1.07s/it]\n",
      "100%|██████████| 3/3 [00:03<00:00,  1.22s/it]\n"
     ]
    },
    {
     "name": "stdout",
     "output_type": "stream",
     "text": [
      "Epoch[20/500], Loss: 2.08406, Val Loss: 1.48337, \n"
     ]
    },
    {
     "name": "stderr",
     "output_type": "stream",
     "text": [
      "100%|██████████| 11/11 [00:11<00:00,  1.08s/it]\n",
      "100%|██████████| 3/3 [00:03<00:00,  1.20s/it]\n"
     ]
    },
    {
     "name": "stdout",
     "output_type": "stream",
     "text": [
      "Epoch[21/500], Loss: 2.05115, Val Loss: 1.46028, \n"
     ]
    },
    {
     "name": "stderr",
     "output_type": "stream",
     "text": [
      "100%|██████████| 11/11 [00:12<00:00,  1.11s/it]\n",
      "100%|██████████| 3/3 [00:03<00:00,  1.20s/it]\n"
     ]
    },
    {
     "name": "stdout",
     "output_type": "stream",
     "text": [
      "Epoch[22/500], Loss: 2.01977, Val Loss: 1.44605, \n"
     ]
    },
    {
     "name": "stderr",
     "output_type": "stream",
     "text": [
      "100%|██████████| 11/11 [00:12<00:00,  1.10s/it]\n",
      "100%|██████████| 3/3 [00:03<00:00,  1.23s/it]\n"
     ]
    },
    {
     "name": "stdout",
     "output_type": "stream",
     "text": [
      "Epoch[23/500], Loss: 1.99243, Val Loss: 1.43854, \n"
     ]
    },
    {
     "name": "stderr",
     "output_type": "stream",
     "text": [
      "100%|██████████| 11/11 [00:11<00:00,  1.04s/it]\n",
      "100%|██████████| 3/3 [00:03<00:00,  1.20s/it]\n"
     ]
    },
    {
     "name": "stdout",
     "output_type": "stream",
     "text": [
      "Epoch[24/500], Loss: 1.96468, Val Loss: 1.44160, \n"
     ]
    },
    {
     "name": "stderr",
     "output_type": "stream",
     "text": [
      "100%|██████████| 11/11 [00:11<00:00,  1.06s/it]\n",
      "100%|██████████| 3/3 [00:03<00:00,  1.22s/it]\n"
     ]
    },
    {
     "name": "stdout",
     "output_type": "stream",
     "text": [
      "Epoch[25/500], Loss: 1.94185, Val Loss: 1.44230, \n"
     ]
    },
    {
     "name": "stderr",
     "output_type": "stream",
     "text": [
      "100%|██████████| 11/11 [00:11<00:00,  1.05s/it]\n",
      "100%|██████████| 3/3 [00:03<00:00,  1.18s/it]\n"
     ]
    },
    {
     "name": "stdout",
     "output_type": "stream",
     "text": [
      "Epoch[26/500], Loss: 1.91710, Val Loss: 1.42578, \n"
     ]
    },
    {
     "name": "stderr",
     "output_type": "stream",
     "text": [
      "100%|██████████| 11/11 [00:11<00:00,  1.05s/it]\n",
      "100%|██████████| 3/3 [00:03<00:00,  1.20s/it]\n"
     ]
    },
    {
     "name": "stdout",
     "output_type": "stream",
     "text": [
      "Epoch[27/500], Loss: 1.89410, Val Loss: 1.42579, \n"
     ]
    },
    {
     "name": "stderr",
     "output_type": "stream",
     "text": [
      "100%|██████████| 11/11 [00:11<00:00,  1.04s/it]\n",
      "100%|██████████| 3/3 [00:03<00:00,  1.22s/it]\n"
     ]
    },
    {
     "name": "stdout",
     "output_type": "stream",
     "text": [
      "Epoch[28/500], Loss: 1.87436, Val Loss: 1.41969, \n"
     ]
    },
    {
     "name": "stderr",
     "output_type": "stream",
     "text": [
      "100%|██████████| 11/11 [00:11<00:00,  1.08s/it]\n",
      "100%|██████████| 3/3 [00:03<00:00,  1.27s/it]\n"
     ]
    },
    {
     "name": "stdout",
     "output_type": "stream",
     "text": [
      "Epoch[29/500], Loss: 1.85700, Val Loss: 1.39857, \n"
     ]
    },
    {
     "name": "stderr",
     "output_type": "stream",
     "text": [
      "100%|██████████| 11/11 [00:11<00:00,  1.06s/it]\n",
      "100%|██████████| 3/3 [00:03<00:00,  1.21s/it]\n"
     ]
    },
    {
     "name": "stdout",
     "output_type": "stream",
     "text": [
      "Epoch[30/500], Loss: 1.83760, Val Loss: 1.41838, \n"
     ]
    },
    {
     "name": "stderr",
     "output_type": "stream",
     "text": [
      "100%|██████████| 11/11 [00:12<00:00,  1.09s/it]\n",
      "100%|██████████| 3/3 [00:03<00:00,  1.21s/it]\n"
     ]
    },
    {
     "name": "stdout",
     "output_type": "stream",
     "text": [
      "Epoch[31/500], Loss: 1.81961, Val Loss: 1.39288, \n"
     ]
    },
    {
     "name": "stderr",
     "output_type": "stream",
     "text": [
      "100%|██████████| 11/11 [00:12<00:00,  1.10s/it]\n",
      "100%|██████████| 3/3 [00:03<00:00,  1.20s/it]\n"
     ]
    },
    {
     "name": "stdout",
     "output_type": "stream",
     "text": [
      "Epoch[32/500], Loss: 1.80468, Val Loss: 1.39054, \n"
     ]
    },
    {
     "name": "stderr",
     "output_type": "stream",
     "text": [
      "100%|██████████| 11/11 [00:11<00:00,  1.07s/it]\n",
      "100%|██████████| 3/3 [00:03<00:00,  1.22s/it]\n"
     ]
    },
    {
     "name": "stdout",
     "output_type": "stream",
     "text": [
      "Epoch[33/500], Loss: 1.79121, Val Loss: 1.39458, \n"
     ]
    },
    {
     "name": "stderr",
     "output_type": "stream",
     "text": [
      "100%|██████████| 11/11 [00:11<00:00,  1.07s/it]\n",
      "100%|██████████| 3/3 [00:03<00:00,  1.20s/it]\n"
     ]
    },
    {
     "name": "stdout",
     "output_type": "stream",
     "text": [
      "Epoch[34/500], Loss: 1.77335, Val Loss: 1.37567, \n"
     ]
    },
    {
     "name": "stderr",
     "output_type": "stream",
     "text": [
      "100%|██████████| 11/11 [00:11<00:00,  1.04s/it]\n",
      "100%|██████████| 3/3 [00:03<00:00,  1.18s/it]\n"
     ]
    },
    {
     "name": "stdout",
     "output_type": "stream",
     "text": [
      "Epoch[35/500], Loss: 1.76104, Val Loss: 1.37250, \n"
     ]
    },
    {
     "name": "stderr",
     "output_type": "stream",
     "text": [
      "100%|██████████| 11/11 [00:12<00:00,  1.10s/it]\n",
      "100%|██████████| 3/3 [00:03<00:00,  1.18s/it]\n"
     ]
    },
    {
     "name": "stdout",
     "output_type": "stream",
     "text": [
      "Epoch[36/500], Loss: 1.74949, Val Loss: 1.38179, \n"
     ]
    },
    {
     "name": "stderr",
     "output_type": "stream",
     "text": [
      "100%|██████████| 11/11 [00:11<00:00,  1.08s/it]\n",
      "100%|██████████| 3/3 [00:03<00:00,  1.29s/it]\n"
     ]
    },
    {
     "name": "stdout",
     "output_type": "stream",
     "text": [
      "Epoch[37/500], Loss: 1.73504, Val Loss: 1.36735, \n"
     ]
    },
    {
     "name": "stderr",
     "output_type": "stream",
     "text": [
      "100%|██████████| 11/11 [00:11<00:00,  1.08s/it]\n",
      "100%|██████████| 3/3 [00:03<00:00,  1.17s/it]\n"
     ]
    },
    {
     "name": "stdout",
     "output_type": "stream",
     "text": [
      "Epoch[38/500], Loss: 1.72342, Val Loss: 1.36389, \n"
     ]
    },
    {
     "name": "stderr",
     "output_type": "stream",
     "text": [
      "100%|██████████| 11/11 [00:11<00:00,  1.06s/it]\n",
      "100%|██████████| 3/3 [00:03<00:00,  1.23s/it]\n"
     ]
    },
    {
     "name": "stdout",
     "output_type": "stream",
     "text": [
      "Epoch[39/500], Loss: 1.71163, Val Loss: 1.35938, \n"
     ]
    },
    {
     "name": "stderr",
     "output_type": "stream",
     "text": [
      "100%|██████████| 11/11 [00:11<00:00,  1.07s/it]\n",
      "100%|██████████| 3/3 [00:03<00:00,  1.22s/it]\n"
     ]
    },
    {
     "name": "stdout",
     "output_type": "stream",
     "text": [
      "Epoch[40/500], Loss: 1.69943, Val Loss: 1.35369, \n"
     ]
    },
    {
     "name": "stderr",
     "output_type": "stream",
     "text": [
      "100%|██████████| 11/11 [00:11<00:00,  1.07s/it]\n",
      "100%|██████████| 3/3 [00:03<00:00,  1.16s/it]\n"
     ]
    },
    {
     "name": "stdout",
     "output_type": "stream",
     "text": [
      "Epoch[41/500], Loss: 1.69009, Val Loss: 1.35846, \n"
     ]
    },
    {
     "name": "stderr",
     "output_type": "stream",
     "text": [
      "100%|██████████| 11/11 [00:11<00:00,  1.06s/it]\n",
      "100%|██████████| 3/3 [00:03<00:00,  1.21s/it]\n"
     ]
    },
    {
     "name": "stdout",
     "output_type": "stream",
     "text": [
      "Epoch[42/500], Loss: 1.67797, Val Loss: 1.37034, \n"
     ]
    },
    {
     "name": "stderr",
     "output_type": "stream",
     "text": [
      "100%|██████████| 11/11 [00:12<00:00,  1.12s/it]\n",
      "100%|██████████| 3/3 [00:03<00:00,  1.23s/it]\n"
     ]
    },
    {
     "name": "stdout",
     "output_type": "stream",
     "text": [
      "Epoch[43/500], Loss: 1.66787, Val Loss: 1.35953, \n"
     ]
    },
    {
     "name": "stderr",
     "output_type": "stream",
     "text": [
      "100%|██████████| 11/11 [00:11<00:00,  1.07s/it]\n",
      "100%|██████████| 3/3 [00:03<00:00,  1.21s/it]\n"
     ]
    },
    {
     "name": "stdout",
     "output_type": "stream",
     "text": [
      "Epoch[44/500], Loss: 1.65809, Val Loss: 1.34305, \n"
     ]
    },
    {
     "name": "stderr",
     "output_type": "stream",
     "text": [
      "100%|██████████| 11/11 [00:11<00:00,  1.09s/it]\n",
      "100%|██████████| 3/3 [00:03<00:00,  1.20s/it]\n"
     ]
    },
    {
     "name": "stdout",
     "output_type": "stream",
     "text": [
      "Epoch[45/500], Loss: 1.64954, Val Loss: 1.34747, \n"
     ]
    },
    {
     "name": "stderr",
     "output_type": "stream",
     "text": [
      "100%|██████████| 11/11 [00:12<00:00,  1.10s/it]\n",
      "100%|██████████| 3/3 [00:03<00:00,  1.20s/it]\n"
     ]
    },
    {
     "name": "stdout",
     "output_type": "stream",
     "text": [
      "Epoch[46/500], Loss: 1.64110, Val Loss: 1.35208, \n"
     ]
    },
    {
     "name": "stderr",
     "output_type": "stream",
     "text": [
      "100%|██████████| 11/11 [00:12<00:00,  1.10s/it]\n",
      "100%|██████████| 3/3 [00:03<00:00,  1.15s/it]\n"
     ]
    },
    {
     "name": "stdout",
     "output_type": "stream",
     "text": [
      "Epoch[47/500], Loss: 1.63214, Val Loss: 1.34592, \n"
     ]
    },
    {
     "name": "stderr",
     "output_type": "stream",
     "text": [
      "100%|██████████| 11/11 [00:11<00:00,  1.05s/it]\n",
      "100%|██████████| 3/3 [00:03<00:00,  1.22s/it]\n"
     ]
    },
    {
     "name": "stdout",
     "output_type": "stream",
     "text": [
      "Epoch[48/500], Loss: 1.62321, Val Loss: 1.35103, \n"
     ]
    },
    {
     "name": "stderr",
     "output_type": "stream",
     "text": [
      "100%|██████████| 11/11 [00:12<00:00,  1.10s/it]\n",
      "100%|██████████| 3/3 [00:03<00:00,  1.17s/it]\n"
     ]
    },
    {
     "name": "stdout",
     "output_type": "stream",
     "text": [
      "Epoch[49/500], Loss: 1.61445, Val Loss: 1.34812, \n"
     ]
    },
    {
     "name": "stderr",
     "output_type": "stream",
     "text": [
      "100%|██████████| 11/11 [00:12<00:00,  1.12s/it]\n",
      "100%|██████████| 3/3 [00:03<00:00,  1.20s/it]\n"
     ]
    },
    {
     "name": "stdout",
     "output_type": "stream",
     "text": [
      "Epoch[50/500], Loss: 1.60639, Val Loss: 1.34711, \n"
     ]
    },
    {
     "name": "stderr",
     "output_type": "stream",
     "text": [
      "100%|██████████| 11/11 [00:11<00:00,  1.07s/it]\n",
      "100%|██████████| 3/3 [00:03<00:00,  1.25s/it]\n"
     ]
    },
    {
     "name": "stdout",
     "output_type": "stream",
     "text": [
      "Epoch[51/500], Loss: 1.59915, Val Loss: 1.33228, \n"
     ]
    },
    {
     "name": "stderr",
     "output_type": "stream",
     "text": [
      "100%|██████████| 11/11 [00:11<00:00,  1.06s/it]\n",
      "100%|██████████| 3/3 [00:03<00:00,  1.31s/it]\n"
     ]
    },
    {
     "name": "stdout",
     "output_type": "stream",
     "text": [
      "Epoch[52/500], Loss: 1.59176, Val Loss: 1.34010, \n"
     ]
    },
    {
     "name": "stderr",
     "output_type": "stream",
     "text": [
      "100%|██████████| 11/11 [00:11<00:00,  1.04s/it]\n",
      "100%|██████████| 3/3 [00:03<00:00,  1.28s/it]\n"
     ]
    },
    {
     "name": "stdout",
     "output_type": "stream",
     "text": [
      "Epoch[53/500], Loss: 1.58457, Val Loss: 1.31478, \n"
     ]
    },
    {
     "name": "stderr",
     "output_type": "stream",
     "text": [
      "100%|██████████| 11/11 [00:11<00:00,  1.06s/it]\n",
      "100%|██████████| 3/3 [00:03<00:00,  1.20s/it]\n"
     ]
    },
    {
     "name": "stdout",
     "output_type": "stream",
     "text": [
      "Epoch[54/500], Loss: 1.57808, Val Loss: 1.33450, \n"
     ]
    },
    {
     "name": "stderr",
     "output_type": "stream",
     "text": [
      "100%|██████████| 11/11 [00:11<00:00,  1.05s/it]\n",
      "100%|██████████| 3/3 [00:03<00:00,  1.23s/it]\n"
     ]
    },
    {
     "name": "stdout",
     "output_type": "stream",
     "text": [
      "Epoch[55/500], Loss: 1.57158, Val Loss: 1.32955, \n"
     ]
    },
    {
     "name": "stderr",
     "output_type": "stream",
     "text": [
      "100%|██████████| 11/11 [00:11<00:00,  1.05s/it]\n",
      "100%|██████████| 3/3 [00:03<00:00,  1.25s/it]\n"
     ]
    },
    {
     "name": "stdout",
     "output_type": "stream",
     "text": [
      "Epoch[56/500], Loss: 1.56571, Val Loss: 1.33730, \n"
     ]
    },
    {
     "name": "stderr",
     "output_type": "stream",
     "text": [
      "100%|██████████| 11/11 [00:11<00:00,  1.05s/it]\n",
      "100%|██████████| 3/3 [00:03<00:00,  1.16s/it]\n"
     ]
    },
    {
     "name": "stdout",
     "output_type": "stream",
     "text": [
      "Epoch[57/500], Loss: 1.55709, Val Loss: 1.32366, \n"
     ]
    },
    {
     "name": "stderr",
     "output_type": "stream",
     "text": [
      "100%|██████████| 11/11 [00:11<00:00,  1.05s/it]\n",
      "100%|██████████| 3/3 [00:03<00:00,  1.18s/it]\n"
     ]
    },
    {
     "name": "stdout",
     "output_type": "stream",
     "text": [
      "Epoch[58/500], Loss: 1.55234, Val Loss: 1.33146, \n"
     ]
    },
    {
     "name": "stderr",
     "output_type": "stream",
     "text": [
      "100%|██████████| 11/11 [00:11<00:00,  1.03s/it]\n",
      "100%|██████████| 3/3 [00:03<00:00,  1.15s/it]\n"
     ]
    },
    {
     "name": "stdout",
     "output_type": "stream",
     "text": [
      "Epoch[59/500], Loss: 1.54441, Val Loss: 1.33828, \n"
     ]
    },
    {
     "name": "stderr",
     "output_type": "stream",
     "text": [
      "100%|██████████| 11/11 [00:11<00:00,  1.06s/it]\n",
      "100%|██████████| 3/3 [00:03<00:00,  1.14s/it]\n"
     ]
    },
    {
     "name": "stdout",
     "output_type": "stream",
     "text": [
      "Epoch[60/500], Loss: 1.53850, Val Loss: 1.31890, \n"
     ]
    },
    {
     "name": "stderr",
     "output_type": "stream",
     "text": [
      "100%|██████████| 11/11 [00:11<00:00,  1.05s/it]\n",
      "100%|██████████| 3/3 [00:03<00:00,  1.18s/it]\n"
     ]
    },
    {
     "name": "stdout",
     "output_type": "stream",
     "text": [
      "Epoch[61/500], Loss: 1.53417, Val Loss: 1.31251, \n"
     ]
    },
    {
     "name": "stderr",
     "output_type": "stream",
     "text": [
      "100%|██████████| 11/11 [00:11<00:00,  1.05s/it]\n",
      "100%|██████████| 3/3 [00:03<00:00,  1.20s/it]\n"
     ]
    },
    {
     "name": "stdout",
     "output_type": "stream",
     "text": [
      "Epoch[62/500], Loss: 1.52788, Val Loss: 1.32678, \n"
     ]
    },
    {
     "name": "stderr",
     "output_type": "stream",
     "text": [
      "100%|██████████| 11/11 [00:11<00:00,  1.07s/it]\n",
      "100%|██████████| 3/3 [00:03<00:00,  1.22s/it]\n"
     ]
    },
    {
     "name": "stdout",
     "output_type": "stream",
     "text": [
      "Epoch[63/500], Loss: 1.52181, Val Loss: 1.31432, \n"
     ]
    },
    {
     "name": "stderr",
     "output_type": "stream",
     "text": [
      "100%|██████████| 11/11 [00:12<00:00,  1.12s/it]\n",
      "100%|██████████| 3/3 [00:03<00:00,  1.24s/it]\n"
     ]
    },
    {
     "name": "stdout",
     "output_type": "stream",
     "text": [
      "Epoch[64/500], Loss: 1.51698, Val Loss: 1.31483, \n"
     ]
    },
    {
     "name": "stderr",
     "output_type": "stream",
     "text": [
      "100%|██████████| 11/11 [00:12<00:00,  1.10s/it]\n",
      "100%|██████████| 3/3 [00:03<00:00,  1.24s/it]\n"
     ]
    },
    {
     "name": "stdout",
     "output_type": "stream",
     "text": [
      "Epoch[65/500], Loss: 1.51065, Val Loss: 1.30988, \n"
     ]
    },
    {
     "name": "stderr",
     "output_type": "stream",
     "text": [
      "100%|██████████| 11/11 [00:11<00:00,  1.07s/it]\n",
      "100%|██████████| 3/3 [00:03<00:00,  1.19s/it]\n"
     ]
    },
    {
     "name": "stdout",
     "output_type": "stream",
     "text": [
      "Epoch[66/500], Loss: 1.50413, Val Loss: 1.30725, \n"
     ]
    },
    {
     "name": "stderr",
     "output_type": "stream",
     "text": [
      "100%|██████████| 11/11 [00:11<00:00,  1.05s/it]\n",
      "100%|██████████| 3/3 [00:03<00:00,  1.22s/it]\n"
     ]
    },
    {
     "name": "stdout",
     "output_type": "stream",
     "text": [
      "Epoch[67/500], Loss: 1.49889, Val Loss: 1.30730, \n"
     ]
    },
    {
     "name": "stderr",
     "output_type": "stream",
     "text": [
      "100%|██████████| 11/11 [00:11<00:00,  1.05s/it]\n",
      "100%|██████████| 3/3 [00:03<00:00,  1.23s/it]\n"
     ]
    },
    {
     "name": "stdout",
     "output_type": "stream",
     "text": [
      "Epoch[68/500], Loss: 1.49476, Val Loss: 1.32798, \n"
     ]
    },
    {
     "name": "stderr",
     "output_type": "stream",
     "text": [
      "100%|██████████| 11/11 [00:11<00:00,  1.08s/it]\n",
      "100%|██████████| 3/3 [00:03<00:00,  1.23s/it]\n"
     ]
    },
    {
     "name": "stdout",
     "output_type": "stream",
     "text": [
      "Epoch[69/500], Loss: 1.49087, Val Loss: 1.30943, \n"
     ]
    },
    {
     "name": "stderr",
     "output_type": "stream",
     "text": [
      "100%|██████████| 11/11 [00:11<00:00,  1.07s/it]\n",
      "100%|██████████| 3/3 [00:03<00:00,  1.20s/it]\n"
     ]
    },
    {
     "name": "stdout",
     "output_type": "stream",
     "text": [
      "Epoch[70/500], Loss: 1.48407, Val Loss: 1.32615, \n"
     ]
    },
    {
     "name": "stderr",
     "output_type": "stream",
     "text": [
      "100%|██████████| 11/11 [00:11<00:00,  1.06s/it]\n",
      "100%|██████████| 3/3 [00:03<00:00,  1.21s/it]\n"
     ]
    },
    {
     "name": "stdout",
     "output_type": "stream",
     "text": [
      "Epoch[71/500], Loss: 1.47871, Val Loss: 1.30590, \n"
     ]
    },
    {
     "name": "stderr",
     "output_type": "stream",
     "text": [
      "100%|██████████| 11/11 [00:11<00:00,  1.06s/it]\n",
      "100%|██████████| 3/3 [00:03<00:00,  1.23s/it]\n"
     ]
    },
    {
     "name": "stdout",
     "output_type": "stream",
     "text": [
      "Epoch[72/500], Loss: 1.47351, Val Loss: 1.31645, \n"
     ]
    },
    {
     "name": "stderr",
     "output_type": "stream",
     "text": [
      "100%|██████████| 11/11 [00:11<00:00,  1.06s/it]\n",
      "100%|██████████| 3/3 [00:03<00:00,  1.25s/it]\n"
     ]
    },
    {
     "name": "stdout",
     "output_type": "stream",
     "text": [
      "Epoch[73/500], Loss: 1.46864, Val Loss: 1.31021, \n"
     ]
    },
    {
     "name": "stderr",
     "output_type": "stream",
     "text": [
      "100%|██████████| 11/11 [00:11<00:00,  1.06s/it]\n",
      "100%|██████████| 3/3 [00:03<00:00,  1.19s/it]\n"
     ]
    },
    {
     "name": "stdout",
     "output_type": "stream",
     "text": [
      "Epoch[74/500], Loss: 1.46503, Val Loss: 1.31447, \n"
     ]
    },
    {
     "name": "stderr",
     "output_type": "stream",
     "text": [
      "100%|██████████| 11/11 [00:11<00:00,  1.04s/it]\n",
      "100%|██████████| 3/3 [00:03<00:00,  1.19s/it]\n"
     ]
    },
    {
     "name": "stdout",
     "output_type": "stream",
     "text": [
      "Epoch[75/500], Loss: 1.45966, Val Loss: 1.31740, \n"
     ]
    },
    {
     "name": "stderr",
     "output_type": "stream",
     "text": [
      "100%|██████████| 11/11 [00:11<00:00,  1.08s/it]\n",
      "100%|██████████| 3/3 [00:03<00:00,  1.21s/it]\n"
     ]
    },
    {
     "name": "stdout",
     "output_type": "stream",
     "text": [
      "Epoch[76/500], Loss: 1.45441, Val Loss: 1.30549, \n"
     ]
    },
    {
     "name": "stderr",
     "output_type": "stream",
     "text": [
      "100%|██████████| 11/11 [00:11<00:00,  1.04s/it]\n",
      "100%|██████████| 3/3 [00:03<00:00,  1.19s/it]\n"
     ]
    },
    {
     "name": "stdout",
     "output_type": "stream",
     "text": [
      "Epoch[77/500], Loss: 1.45111, Val Loss: 1.31789, \n"
     ]
    },
    {
     "name": "stderr",
     "output_type": "stream",
     "text": [
      "100%|██████████| 11/11 [00:11<00:00,  1.07s/it]\n",
      "100%|██████████| 3/3 [00:03<00:00,  1.21s/it]\n"
     ]
    },
    {
     "name": "stdout",
     "output_type": "stream",
     "text": [
      "Epoch[78/500], Loss: 1.44414, Val Loss: 1.29215, \n"
     ]
    },
    {
     "name": "stderr",
     "output_type": "stream",
     "text": [
      "100%|██████████| 11/11 [00:11<00:00,  1.09s/it]\n",
      "100%|██████████| 3/3 [00:03<00:00,  1.24s/it]\n"
     ]
    },
    {
     "name": "stdout",
     "output_type": "stream",
     "text": [
      "Epoch[79/500], Loss: 1.44053, Val Loss: 1.29879, \n"
     ]
    },
    {
     "name": "stderr",
     "output_type": "stream",
     "text": [
      "100%|██████████| 11/11 [00:11<00:00,  1.03s/it]\n",
      "100%|██████████| 3/3 [00:03<00:00,  1.14s/it]\n"
     ]
    },
    {
     "name": "stdout",
     "output_type": "stream",
     "text": [
      "Epoch[80/500], Loss: 1.43654, Val Loss: 1.31243, \n"
     ]
    },
    {
     "name": "stderr",
     "output_type": "stream",
     "text": [
      "100%|██████████| 11/11 [00:11<00:00,  1.02s/it]\n",
      "100%|██████████| 3/3 [00:03<00:00,  1.14s/it]\n"
     ]
    },
    {
     "name": "stdout",
     "output_type": "stream",
     "text": [
      "Epoch[81/500], Loss: 1.43259, Val Loss: 1.30821, \n"
     ]
    },
    {
     "name": "stderr",
     "output_type": "stream",
     "text": [
      "100%|██████████| 11/11 [00:11<00:00,  1.02s/it]\n",
      "100%|██████████| 3/3 [00:03<00:00,  1.22s/it]\n"
     ]
    },
    {
     "name": "stdout",
     "output_type": "stream",
     "text": [
      "Epoch[82/500], Loss: 1.42732, Val Loss: 1.29644, \n"
     ]
    },
    {
     "name": "stderr",
     "output_type": "stream",
     "text": [
      "100%|██████████| 11/11 [00:11<00:00,  1.02s/it]\n",
      "100%|██████████| 3/3 [00:03<00:00,  1.17s/it]\n"
     ]
    },
    {
     "name": "stdout",
     "output_type": "stream",
     "text": [
      "Epoch[83/500], Loss: 1.42467, Val Loss: 1.30496, \n"
     ]
    },
    {
     "name": "stderr",
     "output_type": "stream",
     "text": [
      "100%|██████████| 11/11 [00:11<00:00,  1.02s/it]\n",
      "100%|██████████| 3/3 [00:03<00:00,  1.17s/it]\n"
     ]
    },
    {
     "name": "stdout",
     "output_type": "stream",
     "text": [
      "Epoch[84/500], Loss: 1.41909, Val Loss: 1.29934, \n"
     ]
    },
    {
     "name": "stderr",
     "output_type": "stream",
     "text": [
      "100%|██████████| 11/11 [00:10<00:00,  1.01it/s]\n",
      "100%|██████████| 3/3 [00:03<00:00,  1.14s/it]\n"
     ]
    },
    {
     "name": "stdout",
     "output_type": "stream",
     "text": [
      "Epoch[85/500], Loss: 1.41517, Val Loss: 1.29647, \n"
     ]
    },
    {
     "name": "stderr",
     "output_type": "stream",
     "text": [
      "100%|██████████| 11/11 [00:11<00:00,  1.02s/it]\n",
      "100%|██████████| 3/3 [00:03<00:00,  1.19s/it]\n"
     ]
    },
    {
     "name": "stdout",
     "output_type": "stream",
     "text": [
      "Epoch[86/500], Loss: 1.41291, Val Loss: 1.29420, \n"
     ]
    },
    {
     "name": "stderr",
     "output_type": "stream",
     "text": [
      "100%|██████████| 11/11 [00:11<00:00,  1.04s/it]\n",
      "100%|██████████| 3/3 [00:03<00:00,  1.22s/it]\n"
     ]
    },
    {
     "name": "stdout",
     "output_type": "stream",
     "text": [
      "Epoch[87/500], Loss: 1.40773, Val Loss: 1.29685, \n"
     ]
    },
    {
     "name": "stderr",
     "output_type": "stream",
     "text": [
      "100%|██████████| 11/11 [00:11<00:00,  1.01s/it]\n",
      "100%|██████████| 3/3 [00:03<00:00,  1.17s/it]\n"
     ]
    },
    {
     "name": "stdout",
     "output_type": "stream",
     "text": [
      "Epoch[88/500], Loss: 1.40552, Val Loss: 1.29179, \n"
     ]
    },
    {
     "name": "stderr",
     "output_type": "stream",
     "text": [
      "100%|██████████| 11/11 [00:12<00:00,  1.12s/it]\n",
      "100%|██████████| 3/3 [00:03<00:00,  1.15s/it]\n"
     ]
    },
    {
     "name": "stdout",
     "output_type": "stream",
     "text": [
      "Epoch[89/500], Loss: 1.40141, Val Loss: 1.30185, \n"
     ]
    },
    {
     "name": "stderr",
     "output_type": "stream",
     "text": [
      "100%|██████████| 11/11 [00:11<00:00,  1.00s/it]\n",
      "100%|██████████| 3/3 [00:03<00:00,  1.14s/it]\n"
     ]
    },
    {
     "name": "stdout",
     "output_type": "stream",
     "text": [
      "Epoch[90/500], Loss: 1.39743, Val Loss: 1.29619, \n"
     ]
    },
    {
     "name": "stderr",
     "output_type": "stream",
     "text": [
      "100%|██████████| 11/11 [00:11<00:00,  1.01s/it]\n",
      "100%|██████████| 3/3 [00:03<00:00,  1.15s/it]\n"
     ]
    },
    {
     "name": "stdout",
     "output_type": "stream",
     "text": [
      "Epoch[91/500], Loss: 1.39273, Val Loss: 1.29461, \n"
     ]
    },
    {
     "name": "stderr",
     "output_type": "stream",
     "text": [
      "100%|██████████| 11/11 [00:10<00:00,  1.01it/s]\n",
      "100%|██████████| 3/3 [00:03<00:00,  1.15s/it]\n"
     ]
    },
    {
     "name": "stdout",
     "output_type": "stream",
     "text": [
      "Epoch[92/500], Loss: 1.38836, Val Loss: 1.29829, \n"
     ]
    },
    {
     "name": "stderr",
     "output_type": "stream",
     "text": [
      "100%|██████████| 11/11 [00:11<00:00,  1.04s/it]\n",
      "100%|██████████| 3/3 [00:03<00:00,  1.15s/it]\n"
     ]
    },
    {
     "name": "stdout",
     "output_type": "stream",
     "text": [
      "Epoch[93/500], Loss: 1.38619, Val Loss: 1.30358, \n"
     ]
    },
    {
     "name": "stderr",
     "output_type": "stream",
     "text": [
      "100%|██████████| 11/11 [00:10<00:00,  1.02it/s]\n",
      "100%|██████████| 3/3 [00:03<00:00,  1.21s/it]\n"
     ]
    },
    {
     "name": "stdout",
     "output_type": "stream",
     "text": [
      "Epoch[94/500], Loss: 1.38389, Val Loss: 1.29531, \n"
     ]
    },
    {
     "name": "stderr",
     "output_type": "stream",
     "text": [
      "100%|██████████| 11/11 [00:10<00:00,  1.01it/s]\n",
      "100%|██████████| 3/3 [00:03<00:00,  1.16s/it]\n"
     ]
    },
    {
     "name": "stdout",
     "output_type": "stream",
     "text": [
      "Epoch[95/500], Loss: 1.38001, Val Loss: 1.29718, \n"
     ]
    },
    {
     "name": "stderr",
     "output_type": "stream",
     "text": [
      "100%|██████████| 11/11 [00:10<00:00,  1.01it/s]\n",
      "100%|██████████| 3/3 [00:03<00:00,  1.20s/it]\n"
     ]
    },
    {
     "name": "stdout",
     "output_type": "stream",
     "text": [
      "Epoch[96/500], Loss: 1.37751, Val Loss: 1.30025, \n"
     ]
    },
    {
     "name": "stderr",
     "output_type": "stream",
     "text": [
      "100%|██████████| 11/11 [00:11<00:00,  1.00s/it]\n",
      "100%|██████████| 3/3 [00:03<00:00,  1.14s/it]\n"
     ]
    },
    {
     "name": "stdout",
     "output_type": "stream",
     "text": [
      "Epoch[97/500], Loss: 1.37369, Val Loss: 1.27689, \n"
     ]
    },
    {
     "name": "stderr",
     "output_type": "stream",
     "text": [
      "100%|██████████| 11/11 [00:10<00:00,  1.00it/s]\n",
      "100%|██████████| 3/3 [00:03<00:00,  1.21s/it]\n"
     ]
    },
    {
     "name": "stdout",
     "output_type": "stream",
     "text": [
      "Epoch[98/500], Loss: 1.36979, Val Loss: 1.28578, \n"
     ]
    },
    {
     "name": "stderr",
     "output_type": "stream",
     "text": [
      "100%|██████████| 11/11 [00:10<00:00,  1.02it/s]\n",
      "100%|██████████| 3/3 [00:03<00:00,  1.16s/it]\n"
     ]
    },
    {
     "name": "stdout",
     "output_type": "stream",
     "text": [
      "Epoch[99/500], Loss: 1.36901, Val Loss: 1.29618, \n"
     ]
    },
    {
     "name": "stderr",
     "output_type": "stream",
     "text": [
      "100%|██████████| 11/11 [00:10<00:00,  1.00it/s]\n",
      "100%|██████████| 3/3 [00:03<00:00,  1.19s/it]\n"
     ]
    },
    {
     "name": "stdout",
     "output_type": "stream",
     "text": [
      "Epoch[100/500], Loss: 1.36432, Val Loss: 1.27605, \n"
     ]
    },
    {
     "name": "stderr",
     "output_type": "stream",
     "text": [
      "100%|██████████| 11/11 [00:11<00:00,  1.02s/it]\n",
      "100%|██████████| 3/3 [00:03<00:00,  1.13s/it]\n"
     ]
    },
    {
     "name": "stdout",
     "output_type": "stream",
     "text": [
      "Epoch[101/500], Loss: 1.36170, Val Loss: 1.29108, \n"
     ]
    },
    {
     "name": "stderr",
     "output_type": "stream",
     "text": [
      "100%|██████████| 11/11 [00:10<00:00,  1.03it/s]\n",
      "100%|██████████| 3/3 [00:03<00:00,  1.14s/it]\n"
     ]
    },
    {
     "name": "stdout",
     "output_type": "stream",
     "text": [
      "Epoch[102/500], Loss: 1.35915, Val Loss: 1.30269, \n"
     ]
    },
    {
     "name": "stderr",
     "output_type": "stream",
     "text": [
      "100%|██████████| 11/11 [00:11<00:00,  1.00s/it]\n",
      "100%|██████████| 3/3 [00:03<00:00,  1.15s/it]\n"
     ]
    },
    {
     "name": "stdout",
     "output_type": "stream",
     "text": [
      "Epoch[103/500], Loss: 1.35619, Val Loss: 1.30101, \n"
     ]
    },
    {
     "name": "stderr",
     "output_type": "stream",
     "text": [
      "100%|██████████| 11/11 [00:10<00:00,  1.01it/s]\n",
      "100%|██████████| 3/3 [00:03<00:00,  1.17s/it]\n"
     ]
    },
    {
     "name": "stdout",
     "output_type": "stream",
     "text": [
      "Epoch[104/500], Loss: 1.35544, Val Loss: 1.29199, \n"
     ]
    },
    {
     "name": "stderr",
     "output_type": "stream",
     "text": [
      "100%|██████████| 11/11 [00:11<00:00,  1.02s/it]\n",
      "100%|██████████| 3/3 [00:03<00:00,  1.18s/it]\n"
     ]
    },
    {
     "name": "stdout",
     "output_type": "stream",
     "text": [
      "Epoch[105/500], Loss: 1.35237, Val Loss: 1.28847, \n"
     ]
    },
    {
     "name": "stderr",
     "output_type": "stream",
     "text": [
      "100%|██████████| 11/11 [00:10<00:00,  1.01it/s]\n",
      "100%|██████████| 3/3 [00:03<00:00,  1.17s/it]\n"
     ]
    },
    {
     "name": "stdout",
     "output_type": "stream",
     "text": [
      "Epoch[106/500], Loss: 1.34833, Val Loss: 1.28155, \n"
     ]
    },
    {
     "name": "stderr",
     "output_type": "stream",
     "text": [
      "100%|██████████| 11/11 [00:10<00:00,  1.01it/s]\n",
      "100%|██████████| 3/3 [00:03<00:00,  1.20s/it]\n"
     ]
    },
    {
     "name": "stdout",
     "output_type": "stream",
     "text": [
      "Epoch[107/500], Loss: 1.34666, Val Loss: 1.28005, \n"
     ]
    },
    {
     "name": "stderr",
     "output_type": "stream",
     "text": [
      "100%|██████████| 11/11 [00:11<00:00,  1.01s/it]\n",
      "100%|██████████| 3/3 [00:03<00:00,  1.15s/it]\n"
     ]
    },
    {
     "name": "stdout",
     "output_type": "stream",
     "text": [
      "Epoch[108/500], Loss: 1.34381, Val Loss: 1.29599, \n"
     ]
    },
    {
     "name": "stderr",
     "output_type": "stream",
     "text": [
      "100%|██████████| 11/11 [00:10<00:00,  1.01it/s]\n",
      "100%|██████████| 3/3 [00:03<00:00,  1.19s/it]\n"
     ]
    },
    {
     "name": "stdout",
     "output_type": "stream",
     "text": [
      "Epoch[109/500], Loss: 1.34348, Val Loss: 1.27326, \n"
     ]
    },
    {
     "name": "stderr",
     "output_type": "stream",
     "text": [
      "100%|██████████| 11/11 [00:10<00:00,  1.02it/s]\n",
      "100%|██████████| 3/3 [00:03<00:00,  1.16s/it]\n"
     ]
    },
    {
     "name": "stdout",
     "output_type": "stream",
     "text": [
      "Epoch[110/500], Loss: 1.34098, Val Loss: 1.29810, \n"
     ]
    },
    {
     "name": "stderr",
     "output_type": "stream",
     "text": [
      "100%|██████████| 11/11 [00:10<00:00,  1.01it/s]\n",
      "100%|██████████| 3/3 [00:03<00:00,  1.22s/it]\n"
     ]
    },
    {
     "name": "stdout",
     "output_type": "stream",
     "text": [
      "Epoch[111/500], Loss: 1.33722, Val Loss: 1.28152, \n"
     ]
    },
    {
     "name": "stderr",
     "output_type": "stream",
     "text": [
      "100%|██████████| 11/11 [00:10<00:00,  1.02it/s]\n",
      "100%|██████████| 3/3 [00:03<00:00,  1.13s/it]\n"
     ]
    },
    {
     "name": "stdout",
     "output_type": "stream",
     "text": [
      "Epoch[112/500], Loss: 1.33571, Val Loss: 1.29117, \n"
     ]
    },
    {
     "name": "stderr",
     "output_type": "stream",
     "text": [
      "100%|██████████| 11/11 [00:11<00:00,  1.00s/it]\n",
      "100%|██████████| 3/3 [00:03<00:00,  1.10s/it]\n"
     ]
    },
    {
     "name": "stdout",
     "output_type": "stream",
     "text": [
      "Epoch[113/500], Loss: 1.33382, Val Loss: 1.27710, \n"
     ]
    },
    {
     "name": "stderr",
     "output_type": "stream",
     "text": [
      "100%|██████████| 11/11 [00:10<00:00,  1.02it/s]\n",
      "100%|██████████| 3/3 [00:03<00:00,  1.11s/it]\n"
     ]
    },
    {
     "name": "stdout",
     "output_type": "stream",
     "text": [
      "Epoch[114/500], Loss: 1.33067, Val Loss: 1.27955, \n"
     ]
    },
    {
     "name": "stderr",
     "output_type": "stream",
     "text": [
      "100%|██████████| 11/11 [00:11<00:00,  1.01s/it]\n",
      "100%|██████████| 3/3 [00:03<00:00,  1.18s/it]\n"
     ]
    },
    {
     "name": "stdout",
     "output_type": "stream",
     "text": [
      "Epoch[115/500], Loss: 1.32950, Val Loss: 1.28420, \n"
     ]
    },
    {
     "name": "stderr",
     "output_type": "stream",
     "text": [
      "100%|██████████| 11/11 [00:11<00:00,  1.03s/it]\n",
      "100%|██████████| 3/3 [00:03<00:00,  1.16s/it]\n"
     ]
    },
    {
     "name": "stdout",
     "output_type": "stream",
     "text": [
      "Epoch[116/500], Loss: 1.32662, Val Loss: 1.27821, \n"
     ]
    },
    {
     "name": "stderr",
     "output_type": "stream",
     "text": [
      "100%|██████████| 11/11 [00:10<00:00,  1.01it/s]\n",
      "100%|██████████| 3/3 [00:03<00:00,  1.09s/it]\n"
     ]
    },
    {
     "name": "stdout",
     "output_type": "stream",
     "text": [
      "Epoch[117/500], Loss: 1.32411, Val Loss: 1.28017, \n"
     ]
    },
    {
     "name": "stderr",
     "output_type": "stream",
     "text": [
      "100%|██████████| 11/11 [00:10<00:00,  1.03it/s]\n",
      "100%|██████████| 3/3 [00:03<00:00,  1.17s/it]\n"
     ]
    },
    {
     "name": "stdout",
     "output_type": "stream",
     "text": [
      "Epoch[118/500], Loss: 1.32408, Val Loss: 1.28184, \n"
     ]
    },
    {
     "name": "stderr",
     "output_type": "stream",
     "text": [
      "100%|██████████| 11/11 [00:10<00:00,  1.01it/s]\n",
      "100%|██████████| 3/3 [00:03<00:00,  1.11s/it]\n"
     ]
    },
    {
     "name": "stdout",
     "output_type": "stream",
     "text": [
      "Epoch[119/500], Loss: 1.32106, Val Loss: 1.26570, \n"
     ]
    },
    {
     "name": "stderr",
     "output_type": "stream",
     "text": [
      "100%|██████████| 11/11 [00:10<00:00,  1.01it/s]\n",
      "100%|██████████| 3/3 [00:03<00:00,  1.20s/it]\n"
     ]
    },
    {
     "name": "stdout",
     "output_type": "stream",
     "text": [
      "Epoch[120/500], Loss: 1.32001, Val Loss: 1.28031, \n"
     ]
    },
    {
     "name": "stderr",
     "output_type": "stream",
     "text": [
      "100%|██████████| 11/11 [00:11<00:00,  1.02s/it]\n",
      "100%|██████████| 3/3 [00:03<00:00,  1.15s/it]\n"
     ]
    },
    {
     "name": "stdout",
     "output_type": "stream",
     "text": [
      "Epoch[121/500], Loss: 1.31872, Val Loss: 1.27988, \n"
     ]
    },
    {
     "name": "stderr",
     "output_type": "stream",
     "text": [
      "100%|██████████| 11/11 [00:10<00:00,  1.02it/s]\n",
      "100%|██████████| 3/3 [00:03<00:00,  1.21s/it]\n"
     ]
    },
    {
     "name": "stdout",
     "output_type": "stream",
     "text": [
      "Epoch[122/500], Loss: 1.31613, Val Loss: 1.27903, \n"
     ]
    },
    {
     "name": "stderr",
     "output_type": "stream",
     "text": [
      "100%|██████████| 11/11 [00:10<00:00,  1.00it/s]\n",
      "100%|██████████| 3/3 [00:03<00:00,  1.11s/it]\n"
     ]
    },
    {
     "name": "stdout",
     "output_type": "stream",
     "text": [
      "Epoch[123/500], Loss: 1.31704, Val Loss: 1.28155, \n"
     ]
    },
    {
     "name": "stderr",
     "output_type": "stream",
     "text": [
      "100%|██████████| 11/11 [00:10<00:00,  1.01it/s]\n",
      "100%|██████████| 3/3 [00:03<00:00,  1.16s/it]\n"
     ]
    },
    {
     "name": "stdout",
     "output_type": "stream",
     "text": [
      "Epoch[124/500], Loss: 1.31361, Val Loss: 1.28410, \n"
     ]
    },
    {
     "name": "stderr",
     "output_type": "stream",
     "text": [
      "100%|██████████| 11/11 [00:11<00:00,  1.02s/it]\n",
      "100%|██████████| 3/3 [00:03<00:00,  1.13s/it]\n"
     ]
    },
    {
     "name": "stdout",
     "output_type": "stream",
     "text": [
      "Epoch[125/500], Loss: 1.31287, Val Loss: 1.28300, \n"
     ]
    },
    {
     "name": "stderr",
     "output_type": "stream",
     "text": [
      "100%|██████████| 11/11 [00:11<00:00,  1.01s/it]\n",
      "100%|██████████| 3/3 [00:03<00:00,  1.20s/it]\n"
     ]
    },
    {
     "name": "stdout",
     "output_type": "stream",
     "text": [
      "Epoch[126/500], Loss: 1.31020, Val Loss: 1.27960, \n"
     ]
    },
    {
     "name": "stderr",
     "output_type": "stream",
     "text": [
      "100%|██████████| 11/11 [00:11<00:00,  1.02s/it]\n",
      "100%|██████████| 3/3 [00:03<00:00,  1.17s/it]\n"
     ]
    },
    {
     "name": "stdout",
     "output_type": "stream",
     "text": [
      "Epoch[127/500], Loss: 1.30889, Val Loss: 1.27939, \n"
     ]
    },
    {
     "name": "stderr",
     "output_type": "stream",
     "text": [
      "100%|██████████| 11/11 [00:11<00:00,  1.03s/it]\n",
      "100%|██████████| 3/3 [00:03<00:00,  1.17s/it]\n"
     ]
    },
    {
     "name": "stdout",
     "output_type": "stream",
     "text": [
      "Epoch[128/500], Loss: 1.30768, Val Loss: 1.26998, \n"
     ]
    },
    {
     "name": "stderr",
     "output_type": "stream",
     "text": [
      "100%|██████████| 11/11 [00:11<00:00,  1.00s/it]\n",
      "100%|██████████| 3/3 [00:03<00:00,  1.16s/it]\n"
     ]
    },
    {
     "name": "stdout",
     "output_type": "stream",
     "text": [
      "Epoch[129/500], Loss: 1.30645, Val Loss: 1.27331, \n"
     ]
    },
    {
     "name": "stderr",
     "output_type": "stream",
     "text": [
      "100%|██████████| 11/11 [00:11<00:00,  1.03s/it]\n",
      "100%|██████████| 3/3 [00:03<00:00,  1.15s/it]\n"
     ]
    },
    {
     "name": "stdout",
     "output_type": "stream",
     "text": [
      "Epoch[130/500], Loss: 1.30497, Val Loss: 1.27626, \n"
     ]
    },
    {
     "name": "stderr",
     "output_type": "stream",
     "text": [
      "100%|██████████| 11/11 [00:10<00:00,  1.01it/s]\n",
      "100%|██████████| 3/3 [00:03<00:00,  1.22s/it]\n"
     ]
    },
    {
     "name": "stdout",
     "output_type": "stream",
     "text": [
      "Epoch[131/500], Loss: 1.30541, Val Loss: 1.28064, \n"
     ]
    },
    {
     "name": "stderr",
     "output_type": "stream",
     "text": [
      "100%|██████████| 11/11 [00:11<00:00,  1.01s/it]\n",
      "100%|██████████| 3/3 [00:03<00:00,  1.12s/it]\n"
     ]
    },
    {
     "name": "stdout",
     "output_type": "stream",
     "text": [
      "Epoch[132/500], Loss: 1.30376, Val Loss: 1.28020, \n"
     ]
    },
    {
     "name": "stderr",
     "output_type": "stream",
     "text": [
      "100%|██████████| 11/11 [00:11<00:00,  1.00s/it]\n",
      "100%|██████████| 3/3 [00:03<00:00,  1.14s/it]\n"
     ]
    },
    {
     "name": "stdout",
     "output_type": "stream",
     "text": [
      "Epoch[133/500], Loss: 1.30355, Val Loss: 1.28095, \n"
     ]
    },
    {
     "name": "stderr",
     "output_type": "stream",
     "text": [
      "100%|██████████| 11/11 [00:10<00:00,  1.04it/s]\n",
      "100%|██████████| 3/3 [00:03<00:00,  1.12s/it]\n"
     ]
    },
    {
     "name": "stdout",
     "output_type": "stream",
     "text": [
      "Epoch[134/500], Loss: 1.30102, Val Loss: 1.26380, \n"
     ]
    },
    {
     "name": "stderr",
     "output_type": "stream",
     "text": [
      "100%|██████████| 11/11 [00:10<00:00,  1.02it/s]\n",
      "100%|██████████| 3/3 [00:03<00:00,  1.20s/it]\n"
     ]
    },
    {
     "name": "stdout",
     "output_type": "stream",
     "text": [
      "Epoch[135/500], Loss: 1.29918, Val Loss: 1.28440, \n"
     ]
    },
    {
     "name": "stderr",
     "output_type": "stream",
     "text": [
      "100%|██████████| 11/11 [00:11<00:00,  1.00s/it]\n",
      "100%|██████████| 3/3 [00:03<00:00,  1.15s/it]\n"
     ]
    },
    {
     "name": "stdout",
     "output_type": "stream",
     "text": [
      "Epoch[136/500], Loss: 1.29911, Val Loss: 1.26556, \n"
     ]
    },
    {
     "name": "stderr",
     "output_type": "stream",
     "text": [
      "100%|██████████| 11/11 [00:10<00:00,  1.02it/s]\n",
      "100%|██████████| 3/3 [00:03<00:00,  1.14s/it]\n"
     ]
    },
    {
     "name": "stdout",
     "output_type": "stream",
     "text": [
      "Epoch[137/500], Loss: 1.29761, Val Loss: 1.27538, \n"
     ]
    },
    {
     "name": "stderr",
     "output_type": "stream",
     "text": [
      "100%|██████████| 11/11 [00:10<00:00,  1.01it/s]\n",
      "100%|██████████| 3/3 [00:03<00:00,  1.13s/it]\n"
     ]
    },
    {
     "name": "stdout",
     "output_type": "stream",
     "text": [
      "Epoch[138/500], Loss: 1.29530, Val Loss: 1.26500, \n"
     ]
    },
    {
     "name": "stderr",
     "output_type": "stream",
     "text": [
      "100%|██████████| 11/11 [00:10<00:00,  1.03it/s]\n",
      "100%|██████████| 3/3 [00:03<00:00,  1.11s/it]\n"
     ]
    },
    {
     "name": "stdout",
     "output_type": "stream",
     "text": [
      "Epoch[139/500], Loss: 1.29691, Val Loss: 1.27767, \n"
     ]
    },
    {
     "name": "stderr",
     "output_type": "stream",
     "text": [
      "100%|██████████| 11/11 [00:10<00:00,  1.02it/s]\n",
      "100%|██████████| 3/3 [00:03<00:00,  1.18s/it]\n"
     ]
    },
    {
     "name": "stdout",
     "output_type": "stream",
     "text": [
      "Epoch[140/500], Loss: 1.29251, Val Loss: 1.27365, \n"
     ]
    },
    {
     "name": "stderr",
     "output_type": "stream",
     "text": [
      "100%|██████████| 11/11 [00:10<00:00,  1.03it/s]\n",
      "100%|██████████| 3/3 [00:03<00:00,  1.12s/it]\n"
     ]
    },
    {
     "name": "stdout",
     "output_type": "stream",
     "text": [
      "Epoch[141/500], Loss: 1.29237, Val Loss: 1.27644, \n"
     ]
    },
    {
     "name": "stderr",
     "output_type": "stream",
     "text": [
      "100%|██████████| 11/11 [00:10<00:00,  1.01it/s]\n",
      "100%|██████████| 3/3 [00:03<00:00,  1.15s/it]\n"
     ]
    },
    {
     "name": "stdout",
     "output_type": "stream",
     "text": [
      "Epoch[142/500], Loss: 1.29099, Val Loss: 1.26989, \n"
     ]
    },
    {
     "name": "stderr",
     "output_type": "stream",
     "text": [
      "100%|██████████| 11/11 [00:11<00:00,  1.00s/it]\n",
      "100%|██████████| 3/3 [00:03<00:00,  1.19s/it]\n"
     ]
    },
    {
     "name": "stdout",
     "output_type": "stream",
     "text": [
      "Epoch[143/500], Loss: 1.29082, Val Loss: 1.26341, \n"
     ]
    },
    {
     "name": "stderr",
     "output_type": "stream",
     "text": [
      "100%|██████████| 11/11 [00:10<00:00,  1.02it/s]\n",
      "100%|██████████| 3/3 [00:03<00:00,  1.15s/it]\n"
     ]
    },
    {
     "name": "stdout",
     "output_type": "stream",
     "text": [
      "Epoch[144/500], Loss: 1.28960, Val Loss: 1.25989, \n"
     ]
    },
    {
     "name": "stderr",
     "output_type": "stream",
     "text": [
      "100%|██████████| 11/11 [00:10<00:00,  1.01it/s]\n",
      "100%|██████████| 3/3 [00:03<00:00,  1.27s/it]\n"
     ]
    },
    {
     "name": "stdout",
     "output_type": "stream",
     "text": [
      "Epoch[145/500], Loss: 1.28891, Val Loss: 1.26772, \n"
     ]
    },
    {
     "name": "stderr",
     "output_type": "stream",
     "text": [
      "100%|██████████| 11/11 [00:11<00:00,  1.01s/it]\n",
      "100%|██████████| 3/3 [00:03<00:00,  1.22s/it]\n"
     ]
    },
    {
     "name": "stdout",
     "output_type": "stream",
     "text": [
      "Epoch[146/500], Loss: 1.28732, Val Loss: 1.27975, \n"
     ]
    },
    {
     "name": "stderr",
     "output_type": "stream",
     "text": [
      "100%|██████████| 11/11 [00:10<00:00,  1.02it/s]\n",
      "100%|██████████| 3/3 [00:03<00:00,  1.16s/it]\n"
     ]
    },
    {
     "name": "stdout",
     "output_type": "stream",
     "text": [
      "Epoch[147/500], Loss: 1.28682, Val Loss: 1.27089, \n"
     ]
    },
    {
     "name": "stderr",
     "output_type": "stream",
     "text": [
      "100%|██████████| 11/11 [00:11<00:00,  1.00s/it]\n",
      "100%|██████████| 3/3 [00:03<00:00,  1.14s/it]\n"
     ]
    },
    {
     "name": "stdout",
     "output_type": "stream",
     "text": [
      "Epoch[148/500], Loss: 1.28570, Val Loss: 1.26610, \n"
     ]
    },
    {
     "name": "stderr",
     "output_type": "stream",
     "text": [
      "100%|██████████| 11/11 [00:10<00:00,  1.01it/s]\n",
      "100%|██████████| 3/3 [00:03<00:00,  1.18s/it]\n"
     ]
    },
    {
     "name": "stdout",
     "output_type": "stream",
     "text": [
      "Epoch[149/500], Loss: 1.28438, Val Loss: 1.26755, \n"
     ]
    },
    {
     "name": "stderr",
     "output_type": "stream",
     "text": [
      "100%|██████████| 11/11 [00:11<00:00,  1.00s/it]\n",
      "100%|██████████| 3/3 [00:03<00:00,  1.19s/it]\n"
     ]
    },
    {
     "name": "stdout",
     "output_type": "stream",
     "text": [
      "Epoch[150/500], Loss: 1.28514, Val Loss: 1.26404, \n"
     ]
    },
    {
     "name": "stderr",
     "output_type": "stream",
     "text": [
      "100%|██████████| 11/11 [00:10<00:00,  1.00it/s]\n",
      "100%|██████████| 3/3 [00:03<00:00,  1.16s/it]\n"
     ]
    },
    {
     "name": "stdout",
     "output_type": "stream",
     "text": [
      "Epoch[151/500], Loss: 1.28272, Val Loss: 1.28288, \n"
     ]
    },
    {
     "name": "stderr",
     "output_type": "stream",
     "text": [
      "100%|██████████| 11/11 [00:11<00:00,  1.00s/it]\n",
      "100%|██████████| 3/3 [00:03<00:00,  1.19s/it]\n"
     ]
    },
    {
     "name": "stdout",
     "output_type": "stream",
     "text": [
      "Epoch[152/500], Loss: 1.28338, Val Loss: 1.27069, \n"
     ]
    },
    {
     "name": "stderr",
     "output_type": "stream",
     "text": [
      "100%|██████████| 11/11 [00:10<00:00,  1.01it/s]\n",
      "100%|██████████| 3/3 [00:03<00:00,  1.24s/it]\n"
     ]
    },
    {
     "name": "stdout",
     "output_type": "stream",
     "text": [
      "Epoch[153/500], Loss: 1.28275, Val Loss: 1.26852, \n"
     ]
    },
    {
     "name": "stderr",
     "output_type": "stream",
     "text": [
      "100%|██████████| 11/11 [00:11<00:00,  1.01s/it]\n",
      "100%|██████████| 3/3 [00:03<00:00,  1.13s/it]\n"
     ]
    },
    {
     "name": "stdout",
     "output_type": "stream",
     "text": [
      "Epoch[154/500], Loss: 1.28038, Val Loss: 1.26615, \n"
     ]
    },
    {
     "name": "stderr",
     "output_type": "stream",
     "text": [
      "100%|██████████| 11/11 [00:11<00:00,  1.00s/it]\n",
      "100%|██████████| 3/3 [00:03<00:00,  1.19s/it]\n"
     ]
    },
    {
     "name": "stdout",
     "output_type": "stream",
     "text": [
      "Epoch[155/500], Loss: 1.27898, Val Loss: 1.25793, \n"
     ]
    },
    {
     "name": "stderr",
     "output_type": "stream",
     "text": [
      "100%|██████████| 11/11 [00:10<00:00,  1.03it/s]\n",
      "100%|██████████| 3/3 [00:03<00:00,  1.16s/it]\n"
     ]
    },
    {
     "name": "stdout",
     "output_type": "stream",
     "text": [
      "Epoch[156/500], Loss: 1.27818, Val Loss: 1.26898, \n"
     ]
    },
    {
     "name": "stderr",
     "output_type": "stream",
     "text": [
      "100%|██████████| 11/11 [00:10<00:00,  1.02it/s]\n",
      "100%|██████████| 3/3 [00:03<00:00,  1.13s/it]\n"
     ]
    },
    {
     "name": "stdout",
     "output_type": "stream",
     "text": [
      "Epoch[157/500], Loss: 1.27817, Val Loss: 1.26495, \n"
     ]
    },
    {
     "name": "stderr",
     "output_type": "stream",
     "text": [
      "100%|██████████| 11/11 [00:10<00:00,  1.02it/s]\n",
      "100%|██████████| 3/3 [00:03<00:00,  1.15s/it]\n"
     ]
    },
    {
     "name": "stdout",
     "output_type": "stream",
     "text": [
      "Epoch[158/500], Loss: 1.27690, Val Loss: 1.28061, \n"
     ]
    },
    {
     "name": "stderr",
     "output_type": "stream",
     "text": [
      "100%|██████████| 11/11 [00:10<00:00,  1.02it/s]\n",
      "100%|██████████| 3/3 [00:03<00:00,  1.12s/it]\n"
     ]
    },
    {
     "name": "stdout",
     "output_type": "stream",
     "text": [
      "Epoch[159/500], Loss: 1.27833, Val Loss: 1.27041, \n"
     ]
    },
    {
     "name": "stderr",
     "output_type": "stream",
     "text": [
      "100%|██████████| 11/11 [00:11<00:00,  1.01s/it]\n",
      "100%|██████████| 3/3 [00:03<00:00,  1.14s/it]\n"
     ]
    },
    {
     "name": "stdout",
     "output_type": "stream",
     "text": [
      "Epoch[160/500], Loss: 1.27667, Val Loss: 1.26755, \n"
     ]
    },
    {
     "name": "stderr",
     "output_type": "stream",
     "text": [
      "100%|██████████| 11/11 [00:10<00:00,  1.02it/s]\n",
      "100%|██████████| 3/3 [00:03<00:00,  1.12s/it]\n"
     ]
    },
    {
     "name": "stdout",
     "output_type": "stream",
     "text": [
      "Epoch[161/500], Loss: 1.27553, Val Loss: 1.25717, \n"
     ]
    },
    {
     "name": "stderr",
     "output_type": "stream",
     "text": [
      "100%|██████████| 11/11 [00:10<00:00,  1.01it/s]\n",
      "100%|██████████| 3/3 [00:03<00:00,  1.11s/it]\n"
     ]
    },
    {
     "name": "stdout",
     "output_type": "stream",
     "text": [
      "Epoch[162/500], Loss: 1.27386, Val Loss: 1.25664, \n"
     ]
    },
    {
     "name": "stderr",
     "output_type": "stream",
     "text": [
      "100%|██████████| 11/11 [00:10<00:00,  1.03it/s]\n",
      "100%|██████████| 3/3 [00:03<00:00,  1.13s/it]\n"
     ]
    },
    {
     "name": "stdout",
     "output_type": "stream",
     "text": [
      "Epoch[163/500], Loss: 1.27299, Val Loss: 1.27002, \n"
     ]
    },
    {
     "name": "stderr",
     "output_type": "stream",
     "text": [
      "100%|██████████| 11/11 [00:10<00:00,  1.00it/s]\n",
      "100%|██████████| 3/3 [00:03<00:00,  1.18s/it]\n"
     ]
    },
    {
     "name": "stdout",
     "output_type": "stream",
     "text": [
      "Epoch[164/500], Loss: 1.27337, Val Loss: 1.25842, \n"
     ]
    },
    {
     "name": "stderr",
     "output_type": "stream",
     "text": [
      "100%|██████████| 11/11 [00:10<00:00,  1.03it/s]\n",
      "100%|██████████| 3/3 [00:03<00:00,  1.11s/it]\n"
     ]
    },
    {
     "name": "stdout",
     "output_type": "stream",
     "text": [
      "Epoch[165/500], Loss: 1.27186, Val Loss: 1.26526, \n"
     ]
    },
    {
     "name": "stderr",
     "output_type": "stream",
     "text": [
      "100%|██████████| 11/11 [00:10<00:00,  1.03it/s]\n",
      "100%|██████████| 3/3 [00:03<00:00,  1.19s/it]\n"
     ]
    },
    {
     "name": "stdout",
     "output_type": "stream",
     "text": [
      "Epoch[166/500], Loss: 1.27244, Val Loss: 1.26963, \n"
     ]
    },
    {
     "name": "stderr",
     "output_type": "stream",
     "text": [
      "100%|██████████| 11/11 [00:11<00:00,  1.00s/it]\n",
      "100%|██████████| 3/3 [00:03<00:00,  1.13s/it]\n"
     ]
    },
    {
     "name": "stdout",
     "output_type": "stream",
     "text": [
      "Epoch[167/500], Loss: 1.27085, Val Loss: 1.25542, \n"
     ]
    },
    {
     "name": "stderr",
     "output_type": "stream",
     "text": [
      "100%|██████████| 11/11 [00:11<00:00,  1.00s/it]\n",
      "100%|██████████| 3/3 [00:03<00:00,  1.16s/it]\n"
     ]
    },
    {
     "name": "stdout",
     "output_type": "stream",
     "text": [
      "Epoch[168/500], Loss: 1.26862, Val Loss: 1.27291, \n"
     ]
    },
    {
     "name": "stderr",
     "output_type": "stream",
     "text": [
      "100%|██████████| 11/11 [00:11<00:00,  1.03s/it]\n",
      "100%|██████████| 3/3 [00:03<00:00,  1.14s/it]\n"
     ]
    },
    {
     "name": "stdout",
     "output_type": "stream",
     "text": [
      "Epoch[169/500], Loss: 1.26979, Val Loss: 1.25713, \n"
     ]
    },
    {
     "name": "stderr",
     "output_type": "stream",
     "text": [
      "100%|██████████| 11/11 [00:10<00:00,  1.01it/s]\n",
      "100%|██████████| 3/3 [00:03<00:00,  1.14s/it]\n"
     ]
    },
    {
     "name": "stdout",
     "output_type": "stream",
     "text": [
      "Epoch[170/500], Loss: 1.26721, Val Loss: 1.26082, \n"
     ]
    },
    {
     "name": "stderr",
     "output_type": "stream",
     "text": [
      "100%|██████████| 11/11 [00:10<00:00,  1.01it/s]\n",
      "100%|██████████| 3/3 [00:03<00:00,  1.15s/it]\n"
     ]
    },
    {
     "name": "stdout",
     "output_type": "stream",
     "text": [
      "Epoch[171/500], Loss: 1.26789, Val Loss: 1.25771, \n"
     ]
    },
    {
     "name": "stderr",
     "output_type": "stream",
     "text": [
      "100%|██████████| 11/11 [00:11<00:00,  1.01s/it]\n",
      "100%|██████████| 3/3 [00:03<00:00,  1.23s/it]\n"
     ]
    },
    {
     "name": "stdout",
     "output_type": "stream",
     "text": [
      "Epoch[172/500], Loss: 1.26708, Val Loss: 1.24934, \n"
     ]
    },
    {
     "name": "stderr",
     "output_type": "stream",
     "text": [
      "100%|██████████| 11/11 [00:11<00:00,  1.00s/it]\n",
      "100%|██████████| 3/3 [00:03<00:00,  1.14s/it]\n"
     ]
    },
    {
     "name": "stdout",
     "output_type": "stream",
     "text": [
      "Epoch[173/500], Loss: 1.26754, Val Loss: 1.26380, \n"
     ]
    },
    {
     "name": "stderr",
     "output_type": "stream",
     "text": [
      "100%|██████████| 11/11 [00:10<00:00,  1.03it/s]\n",
      "100%|██████████| 3/3 [00:03<00:00,  1.14s/it]\n"
     ]
    },
    {
     "name": "stdout",
     "output_type": "stream",
     "text": [
      "Epoch[174/500], Loss: 1.26582, Val Loss: 1.26448, \n"
     ]
    },
    {
     "name": "stderr",
     "output_type": "stream",
     "text": [
      "100%|██████████| 11/11 [00:10<00:00,  1.00it/s]\n",
      "100%|██████████| 3/3 [00:03<00:00,  1.14s/it]\n"
     ]
    },
    {
     "name": "stdout",
     "output_type": "stream",
     "text": [
      "Epoch[175/500], Loss: 1.26505, Val Loss: 1.27786, \n"
     ]
    },
    {
     "name": "stderr",
     "output_type": "stream",
     "text": [
      "100%|██████████| 11/11 [00:10<00:00,  1.01it/s]\n",
      "100%|██████████| 3/3 [00:03<00:00,  1.17s/it]\n"
     ]
    },
    {
     "name": "stdout",
     "output_type": "stream",
     "text": [
      "Epoch[176/500], Loss: 1.26524, Val Loss: 1.25934, \n"
     ]
    },
    {
     "name": "stderr",
     "output_type": "stream",
     "text": [
      "100%|██████████| 11/11 [00:10<00:00,  1.00it/s]\n",
      "100%|██████████| 3/3 [00:03<00:00,  1.17s/it]\n"
     ]
    },
    {
     "name": "stdout",
     "output_type": "stream",
     "text": [
      "Epoch[177/500], Loss: 1.26211, Val Loss: 1.25759, \n"
     ]
    },
    {
     "name": "stderr",
     "output_type": "stream",
     "text": [
      "100%|██████████| 11/11 [00:10<00:00,  1.01it/s]\n",
      "100%|██████████| 3/3 [00:03<00:00,  1.16s/it]\n"
     ]
    },
    {
     "name": "stdout",
     "output_type": "stream",
     "text": [
      "Epoch[178/500], Loss: 1.26346, Val Loss: 1.26491, \n"
     ]
    },
    {
     "name": "stderr",
     "output_type": "stream",
     "text": [
      "100%|██████████| 11/11 [00:10<00:00,  1.01it/s]\n",
      "100%|██████████| 3/3 [00:03<00:00,  1.15s/it]\n"
     ]
    },
    {
     "name": "stdout",
     "output_type": "stream",
     "text": [
      "Epoch[179/500], Loss: 1.26152, Val Loss: 1.26545, \n"
     ]
    },
    {
     "name": "stderr",
     "output_type": "stream",
     "text": [
      "100%|██████████| 11/11 [00:11<00:00,  1.01s/it]\n",
      "100%|██████████| 3/3 [00:03<00:00,  1.16s/it]\n"
     ]
    },
    {
     "name": "stdout",
     "output_type": "stream",
     "text": [
      "Epoch[180/500], Loss: 1.26217, Val Loss: 1.25158, \n"
     ]
    },
    {
     "name": "stderr",
     "output_type": "stream",
     "text": [
      "100%|██████████| 11/11 [00:11<00:00,  1.01s/it]\n",
      "100%|██████████| 3/3 [00:03<00:00,  1.16s/it]\n"
     ]
    },
    {
     "name": "stdout",
     "output_type": "stream",
     "text": [
      "Epoch[181/500], Loss: 1.26179, Val Loss: 1.27078, \n"
     ]
    },
    {
     "name": "stderr",
     "output_type": "stream",
     "text": [
      "100%|██████████| 11/11 [00:11<00:00,  1.02s/it]\n",
      "100%|██████████| 3/3 [00:03<00:00,  1.17s/it]\n"
     ]
    },
    {
     "name": "stdout",
     "output_type": "stream",
     "text": [
      "Epoch[182/500], Loss: 1.26104, Val Loss: 1.26123, \n"
     ]
    },
    {
     "name": "stderr",
     "output_type": "stream",
     "text": [
      "100%|██████████| 11/11 [00:11<00:00,  1.01s/it]\n",
      "100%|██████████| 3/3 [00:03<00:00,  1.16s/it]\n"
     ]
    },
    {
     "name": "stdout",
     "output_type": "stream",
     "text": [
      "Epoch[183/500], Loss: 1.26062, Val Loss: 1.26112, \n"
     ]
    },
    {
     "name": "stderr",
     "output_type": "stream",
     "text": [
      "100%|██████████| 11/11 [00:11<00:00,  1.00s/it]\n",
      "100%|██████████| 3/3 [00:03<00:00,  1.15s/it]\n"
     ]
    },
    {
     "name": "stdout",
     "output_type": "stream",
     "text": [
      "Epoch[184/500], Loss: 1.25915, Val Loss: 1.26674, \n"
     ]
    },
    {
     "name": "stderr",
     "output_type": "stream",
     "text": [
      "100%|██████████| 11/11 [00:10<00:00,  1.01it/s]\n",
      "100%|██████████| 3/3 [00:03<00:00,  1.15s/it]\n"
     ]
    },
    {
     "name": "stdout",
     "output_type": "stream",
     "text": [
      "Epoch[185/500], Loss: 1.25956, Val Loss: 1.26323, \n"
     ]
    },
    {
     "name": "stderr",
     "output_type": "stream",
     "text": [
      "100%|██████████| 11/11 [00:10<00:00,  1.01it/s]\n",
      "100%|██████████| 3/3 [00:03<00:00,  1.13s/it]\n"
     ]
    },
    {
     "name": "stdout",
     "output_type": "stream",
     "text": [
      "Epoch[186/500], Loss: 1.25714, Val Loss: 1.26200, \n"
     ]
    },
    {
     "name": "stderr",
     "output_type": "stream",
     "text": [
      "100%|██████████| 11/11 [00:11<00:00,  1.03s/it]\n",
      "100%|██████████| 3/3 [00:03<00:00,  1.18s/it]\n"
     ]
    },
    {
     "name": "stdout",
     "output_type": "stream",
     "text": [
      "Epoch[187/500], Loss: 1.25777, Val Loss: 1.25108, \n"
     ]
    },
    {
     "name": "stderr",
     "output_type": "stream",
     "text": [
      "100%|██████████| 11/11 [00:11<00:00,  1.01s/it]\n",
      "100%|██████████| 3/3 [00:03<00:00,  1.18s/it]\n"
     ]
    },
    {
     "name": "stdout",
     "output_type": "stream",
     "text": [
      "Epoch[188/500], Loss: 1.25701, Val Loss: 1.25947, \n"
     ]
    },
    {
     "name": "stderr",
     "output_type": "stream",
     "text": [
      "100%|██████████| 11/11 [00:11<00:00,  1.02s/it]\n",
      "100%|██████████| 3/3 [00:03<00:00,  1.15s/it]\n"
     ]
    },
    {
     "name": "stdout",
     "output_type": "stream",
     "text": [
      "Epoch[189/500], Loss: 1.25792, Val Loss: 1.27297, \n"
     ]
    },
    {
     "name": "stderr",
     "output_type": "stream",
     "text": [
      "100%|██████████| 11/11 [00:12<00:00,  1.10s/it]\n",
      "100%|██████████| 3/3 [00:03<00:00,  1.21s/it]\n"
     ]
    },
    {
     "name": "stdout",
     "output_type": "stream",
     "text": [
      "Epoch[190/500], Loss: 1.25518, Val Loss: 1.26555, \n"
     ]
    },
    {
     "name": "stderr",
     "output_type": "stream",
     "text": [
      "100%|██████████| 11/11 [00:10<00:00,  1.01it/s]\n",
      "100%|██████████| 3/3 [00:03<00:00,  1.16s/it]\n"
     ]
    },
    {
     "name": "stdout",
     "output_type": "stream",
     "text": [
      "Epoch[191/500], Loss: 1.25472, Val Loss: 1.26717, \n"
     ]
    },
    {
     "name": "stderr",
     "output_type": "stream",
     "text": [
      "100%|██████████| 11/11 [00:11<00:00,  1.04s/it]\n",
      "100%|██████████| 3/3 [00:03<00:00,  1.13s/it]\n"
     ]
    },
    {
     "name": "stdout",
     "output_type": "stream",
     "text": [
      "Epoch[192/500], Loss: 1.25303, Val Loss: 1.26015, \n"
     ]
    },
    {
     "name": "stderr",
     "output_type": "stream",
     "text": [
      "100%|██████████| 11/11 [00:11<00:00,  1.00s/it]\n",
      "100%|██████████| 3/3 [00:03<00:00,  1.17s/it]\n"
     ]
    },
    {
     "name": "stdout",
     "output_type": "stream",
     "text": [
      "Epoch[193/500], Loss: 1.25186, Val Loss: 1.27111, \n"
     ]
    },
    {
     "name": "stderr",
     "output_type": "stream",
     "text": [
      "100%|██████████| 11/11 [00:10<00:00,  1.01it/s]\n",
      "100%|██████████| 3/3 [00:03<00:00,  1.23s/it]\n"
     ]
    },
    {
     "name": "stdout",
     "output_type": "stream",
     "text": [
      "Epoch[194/500], Loss: 1.25286, Val Loss: 1.27908, \n"
     ]
    },
    {
     "name": "stderr",
     "output_type": "stream",
     "text": [
      "100%|██████████| 11/11 [00:10<00:00,  1.01it/s]\n",
      "100%|██████████| 3/3 [00:03<00:00,  1.22s/it]\n"
     ]
    },
    {
     "name": "stdout",
     "output_type": "stream",
     "text": [
      "Epoch[195/500], Loss: 1.25214, Val Loss: 1.25599, \n"
     ]
    },
    {
     "name": "stderr",
     "output_type": "stream",
     "text": [
      "100%|██████████| 11/11 [00:10<00:00,  1.01it/s]\n",
      "100%|██████████| 3/3 [00:03<00:00,  1.11s/it]\n"
     ]
    },
    {
     "name": "stdout",
     "output_type": "stream",
     "text": [
      "Epoch[196/500], Loss: 1.25109, Val Loss: 1.25738, \n"
     ]
    },
    {
     "name": "stderr",
     "output_type": "stream",
     "text": [
      "100%|██████████| 11/11 [00:11<00:00,  1.01s/it]\n",
      "100%|██████████| 3/3 [00:03<00:00,  1.16s/it]\n"
     ]
    },
    {
     "name": "stdout",
     "output_type": "stream",
     "text": [
      "Epoch[197/500], Loss: 1.25203, Val Loss: 1.27183, \n"
     ]
    },
    {
     "name": "stderr",
     "output_type": "stream",
     "text": [
      "100%|██████████| 11/11 [00:10<00:00,  1.00it/s]\n",
      "100%|██████████| 3/3 [00:03<00:00,  1.16s/it]\n"
     ]
    },
    {
     "name": "stdout",
     "output_type": "stream",
     "text": [
      "Epoch[198/500], Loss: 1.25043, Val Loss: 1.25511, \n"
     ]
    },
    {
     "name": "stderr",
     "output_type": "stream",
     "text": [
      "100%|██████████| 11/11 [00:10<00:00,  1.00it/s]\n",
      "100%|██████████| 3/3 [00:03<00:00,  1.15s/it]\n"
     ]
    },
    {
     "name": "stdout",
     "output_type": "stream",
     "text": [
      "Epoch[199/500], Loss: 1.25080, Val Loss: 1.26700, \n"
     ]
    },
    {
     "name": "stderr",
     "output_type": "stream",
     "text": [
      "100%|██████████| 11/11 [00:11<00:00,  1.00s/it]\n",
      "100%|██████████| 3/3 [00:03<00:00,  1.18s/it]\n"
     ]
    },
    {
     "name": "stdout",
     "output_type": "stream",
     "text": [
      "Epoch[200/500], Loss: 1.24991, Val Loss: 1.26282, \n"
     ]
    },
    {
     "name": "stderr",
     "output_type": "stream",
     "text": [
      "100%|██████████| 11/11 [00:10<00:00,  1.03it/s]\n",
      "100%|██████████| 3/3 [00:03<00:00,  1.13s/it]\n"
     ]
    },
    {
     "name": "stdout",
     "output_type": "stream",
     "text": [
      "Epoch[201/500], Loss: 1.24851, Val Loss: 1.27088, \n"
     ]
    },
    {
     "name": "stderr",
     "output_type": "stream",
     "text": [
      "100%|██████████| 11/11 [00:10<00:00,  1.01it/s]\n",
      "100%|██████████| 3/3 [00:03<00:00,  1.16s/it]"
     ]
    },
    {
     "name": "stdout",
     "output_type": "stream",
     "text": [
      "Epoch[202/500], Loss: 1.24819, Val Loss: 1.25236, \n",
      "convinient\n"
     ]
    },
    {
     "name": "stderr",
     "output_type": "stream",
     "text": [
      "\n"
     ]
    }
   ],
   "source": [
    "speed.train(device='cuda',save=False)"
   ]
  },
  {
   "cell_type": "code",
   "execution_count": 11,
   "id": "cdd61fb1-b0f1-480a-9323-6f562aad639d",
   "metadata": {},
   "outputs": [],
   "source": [
    "torch.save(speed.model.state_dict(), f'simulation_out/model.pth')"
   ]
  },
  {
   "cell_type": "markdown",
   "id": "9f96be70-9da0-4e68-ab5a-e0ecf0594281",
   "metadata": {},
   "source": [
    "## Get the results"
   ]
  },
  {
   "cell_type": "markdown",
   "id": "68bd7440-341d-4367-a831-0cd9a98eafac",
   "metadata": {},
   "source": [
    "Use `SPEED.SPEED.get_embedding` to get the low-dimensional embedding.\n",
    "\n",
    "The spot/cell embeddings will be stored in `adata.obsm['X_SPEED']`. The peak embeddings will be stored in `adata.varm['peak_SPEED']`"
   ]
  },
  {
   "cell_type": "code",
   "execution_count": 12,
   "id": "28d98440-4b41-4437-9aaa-a1788a81a4ac",
   "metadata": {
    "scrolled": true,
    "tags": []
   },
   "outputs": [
    {
     "name": "stdout",
     "output_type": "stream",
     "text": [
      "get cell/spot embedding...\n"
     ]
    },
    {
     "name": "stderr",
     "output_type": "stream",
     "text": [
      "100%|██████████| 5/5 [00:00<00:00, 36.99it/s]\n"
     ]
    },
    {
     "name": "stdout",
     "output_type": "stream",
     "text": [
      "get peak embedding...\n"
     ]
    },
    {
     "name": "stderr",
     "output_type": "stream",
     "text": [
      "100%|██████████| 5/5 [00:00<00:00, 417.06it/s]\n"
     ]
    },
    {
     "name": "stdout",
     "output_type": "stream",
     "text": [
      "get spatial embedding...\n"
     ]
    },
    {
     "name": "stderr",
     "output_type": "stream",
     "text": [
      "100%|██████████| 5/5 [00:00<00:00, 1169.83it/s]"
     ]
    },
    {
     "name": "stdout",
     "output_type": "stream",
     "text": [
      "(81, 400)\n",
      "(81, 400)\n",
      "(81, 400)\n",
      "(81, 400)\n",
      "(76, 400)\n",
      "the shape of embedding: (400, 32)\n"
     ]
    },
    {
     "name": "stderr",
     "output_type": "stream",
     "text": [
      "\n"
     ]
    }
   ],
   "source": [
    "adata = speed.get_embedding(adata)"
   ]
  },
  {
   "cell_type": "markdown",
   "id": "547e44be-7ba3-4cac-9719-8ba1e4c96682",
   "metadata": {},
   "source": [
    "Use `SPEED.SPEED.get_denoise_result` to get the denoised matrix."
   ]
  },
  {
   "cell_type": "code",
   "execution_count": 13,
   "id": "8572f719-a98e-45af-8bc4-bd7965530e39",
   "metadata": {},
   "outputs": [],
   "source": [
    "adata.X = speed.get_denoise_result()"
   ]
  },
  {
   "cell_type": "code",
   "execution_count": 14,
   "id": "fa03a7ae-1973-4fd2-b337-ff3763f78652",
   "metadata": {},
   "outputs": [],
   "source": [
    "sc.pp.neighbors(adata, use_rep='X_SPEED', random_state=1)\n",
    "sc.tl.umap(adata)\n",
    "sc.tl.leiden(adata, random_state=1, key_added=\"leiden_spot\",resolution=0.2)"
   ]
  },
  {
   "cell_type": "code",
   "execution_count": 15,
   "id": "2a32523d-bc9d-48ed-a8ec-9bcf1e03fca8",
   "metadata": {},
   "outputs": [
    {
     "data": {
      "image/png": "[encoded data removed]",
      "text/plain": [
       "<Figure size 640x480 with 1 Axes>"
      ]
     },
     "metadata": {},
     "output_type": "display_data"
    }
   ],
   "source": [
    "sc.pl.umap(adata,color='leiden_spot')"
   ]
  },
  {
   "cell_type": "code",
   "execution_count": 16,
   "id": "03644329-cf84-413c-8bda-c3f0ef6bf5b1",
   "metadata": {},
   "outputs": [
    {
     "data": {
      "image/png": "[encoded data removed]",
      "text/plain": [
       "<Figure size 640x480 with 1 Axes>"
      ]
     },
     "metadata": {},
     "output_type": "display_data"
    }
   ],
   "source": [
    "sc.pl.embedding(adata,basis='spatial',color='leiden_spot')"
   ]
  },
  {
   "cell_type": "code",
   "execution_count": 17,
   "id": "7aa83e36-45b3-4af9-85bb-6dcb5f8fc95f",
   "metadata": {},
   "outputs": [],
   "source": [
    "plot = ['chr16:29893731-29894231','chr4:42860430-42860930','chr4:53797048-53797548','chr6:16727179-16727679']"
   ]
  },
  {
   "cell_type": "markdown",
   "id": "65305284-8bc4-45c5-8a2a-f459c7d3846a",
   "metadata": {},
   "source": [
    "Use `SPEED.binarize` to binarize the denoised matrix."
   ]
  },
  {
   "cell_type": "code",
   "execution_count": 19,
   "id": "acffa79c-983c-4e83-b90a-0a317867f24f",
   "metadata": {},
   "outputs": [
    {
     "name": "stderr",
     "output_type": "stream",
     "text": [
      "100%|██████████| 400/400 [00:00<00:00, 2246.94it/s]\n",
      "100%|██████████| 29003/29003 [00:02<00:00, 12033.06it/s]\n"
     ]
    }
   ],
   "source": [
    "adata = speed.binarize(adata)"
   ]
  },
  {
   "cell_type": "code",
   "execution_count": 20,
   "id": "d0452104-ec01-4ced-aebc-413fd8a9f41a",
   "metadata": {},
   "outputs": [],
   "source": [
    "adata.write(f'simulation_out/adata_speed.h5ad')"
   ]
  },
  {
   "cell_type": "code",
   "execution_count": 21,
   "id": "97177a0d-f1d2-42ef-b9b4-17640eb85b1e",
   "metadata": {},
   "outputs": [],
   "source": [
    "adata.X=adata.obsm['binary_SPEED']"
   ]
  },
  {
   "cell_type": "code",
   "execution_count": null,
   "id": "a6b748d8-2eec-4f53-9933-578a88018b46",
   "metadata": {},
   "outputs": [],
   "source": []
  }
 ],
 "metadata": {
  "kernelspec": {
   "display_name": "python37-speed",
   "language": "python",
   "name": "python37-speed"
  },
  "language_info": {
   "codemirror_mode": {
    "name": "ipython",
    "version": 3
   },
   "file_extension": ".py",
   "mimetype": "text/x-python",
   "name": "python",
   "nbconvert_exporter": "python",
   "pygments_lexer": "ipython3",
   "version": "3.7.2"
  }
 },
 "nbformat": 4,
 "nbformat_minor": 5
}
