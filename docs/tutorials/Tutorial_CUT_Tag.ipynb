{
 "cells": [
  {
   "cell_type": "markdown",
   "id": "a23a8640-4fc7-4f0f-9fc5-8fa5b0b2e4d3",
   "metadata": {},
   "source": [
    "# SPEED workflow : Training on the spatial epigenomic data without prior information from single-cell data"
   ]
  },
  {
   "cell_type": "markdown",
   "id": "8324d8a5-1ffa-4357-beb5-fd61801ff9b8",
   "metadata": {},
   "source": [
    "Dataset: The E13 mouse embryo spatial CUT&Tag-RNA-seq dataset by Zhang et al ([here](https://doi.org/10.5281/zenodo.14948507))"
   ]
  },
  {
   "cell_type": "code",
   "execution_count": 1,
   "id": "aa6961de-7e28-4d53-bb1a-2c28ac07e10a",
   "metadata": {},
   "outputs": [
    {
     "name": "stdout",
     "output_type": "stream",
     "text": [
      "Whether GPU is detected: True\n",
      "CUDA version: 11.7\n"
     ]
    }
   ],
   "source": [
    "import torch\n",
    "print(\"Whether GPU is detected:\", torch.cuda.is_available())\n",
    "print(\"CUDA version:\", torch.version.cuda)"
   ]
  },
  {
   "cell_type": "code",
   "execution_count": 2,
   "id": "fb97dfd6-c9e6-4197-ad76-e5b74585c211",
   "metadata": {
    "tags": []
   },
   "outputs": [],
   "source": [
    "import SPEED\n",
    "import scanpy as sc\n",
    "\n",
    "adata_input_path = 'spCUT_Tag/tile_H3K27ac.h5ad'\n",
    "adata_output_path = './H3K27ac_out'"
   ]
  },
  {
   "cell_type": "markdown",
   "id": "ec578cdb-f297-49a7-a085-bf2f08b1b317",
   "metadata": {},
   "source": [
    "load the spatial epigenomic data. "
   ]
  },
  {
   "cell_type": "markdown",
   "id": "b4d6495d-5b5e-452d-87fc-f43dc43a7cad",
   "metadata": {},
   "source": [
    "## load the data"
   ]
  },
  {
   "cell_type": "markdown",
   "id": "c9f34540-f197-49d6-ac74-d5cd2c5466c5",
   "metadata": {},
   "source": [
    "Load the spatial epigenomic data without the corresponding single-cell data. "
   ]
  },
  {
   "cell_type": "code",
   "execution_count": 3,
   "id": "19edfffd-0e7a-4e44-a5fa-bb14cc096656",
   "metadata": {},
   "outputs": [],
   "source": [
    "adata = sc.read(adata_input_path)"
   ]
  },
  {
   "cell_type": "markdown",
   "id": "8e317f49-5be8-49de-b9ac-5252936abef0",
   "metadata": {},
   "source": [
    "## Initialize the SPEED model"
   ]
  },
  {
   "cell_type": "markdown",
   "id": "5b89c679-0694-444d-8e5c-1682afe91faf",
   "metadata": {},
   "source": [
    "Initialize the model with spatial data.\n",
    "\n",
    "`is_spatial` is set to `True` during the second stage of training on spatial data.\n",
    "\n",
    "`k_degree` is the degree of spatial neighbor used for spatial relative position encoding. For data with a 50 μm resolution, k is defaulted to 5. For data with a 20 μm resolution, k is recommanded to 12.\n",
    "\n",
    "`adata_sc` is set to `None` when training without prior information from single-cell data."
   ]
  },
  {
   "cell_type": "code",
   "execution_count": 4,
   "id": "2bdac633-29fe-4e7b-a4ef-0316b22813a1",
   "metadata": {},
   "outputs": [
    {
     "name": "stdout",
     "output_type": "stream",
     "text": [
      "matrix ready...\n",
      "use 0-1 matrix...\n",
      "cell_features ready...\n",
      "peak features ready...\n",
      "Without single-cell reference\n"
     ]
    }
   ],
   "source": [
    "speed = SPEED.SPEED(adata,image=None, is_spatial=True,k_degree=12, adata_sc=None)"
   ]
  },
  {
   "cell_type": "markdown",
   "id": "c7141f93-555c-4484-aa0b-1b4c12faee0f",
   "metadata": {},
   "source": [
    "### Spliting training and validation sets.\n",
    "\n",
    "`num_workers` is the number of subprocesses for data loading (default = 4).\n",
    "\n",
    "`data_type` sets the input data format used by SPEED. SPEED will handle this format internally, so no external action is required from the user. For lower GPU memory and faster training, it is recommended to set `dense = False` (default) when training on GPU, and `dense = True` when training on CPU.\n",
    "\n",
    "`batch_size_cell` and `batch_size_peak` are the batch sizes at the cell-level and peak-level. SPEED will choose automatically according to dataset size, but if the batch size is too large for your GPU, you can reduce it manually.\n",
    "\n",
    "`split_ratio` sets the proportion of the validation set at both the cell level and peak level. (default = [1/6, 1/6])"
   ]
  },
  {
   "cell_type": "code",
   "execution_count": 5,
   "id": "211cef5a-e4b3-4b18-9d4d-bed06585bfb7",
   "metadata": {},
   "outputs": [
    {
     "name": "stdout",
     "output_type": "stream",
     "text": [
      "batch_size_cell = 1024, batch_size_peak = 32768\n",
      "split ready...\n",
      "labels ready...\n",
      "peak embedding is given\n",
      "dataset ready...\n"
     ]
    }
   ],
   "source": [
    "speed.setup_data(num_workers=4)"
   ]
  },
  {
   "cell_type": "markdown",
   "id": "5a8c034c-7082-451c-9877-0c74fc680094",
   "metadata": {},
   "source": [
    "### Build the neural network model for SPEED.\n",
    "\n",
    "`emb_features` is the number of embedding features (default = 32).\n",
    "\n",
    "`dropout_p` is the dropout probability of the model. For spatial data training, `dropout_p` is recommended to 0.4."
   ]
  },
  {
   "cell_type": "code",
   "execution_count": 6,
   "id": "91694c79-1418-46f6-b542-73e77cb9b5d8",
   "metadata": {},
   "outputs": [],
   "source": [
    "speed.build_model(emb_features=32,dropout_p=0.4)"
   ]
  },
  {
   "cell_type": "markdown",
   "id": "ebd35020-ceab-4824-82eb-1e2a0b115afd",
   "metadata": {},
   "source": [
    "## Train the SPEED model"
   ]
  },
  {
   "cell_type": "markdown",
   "id": "a820a14c-72fb-438d-98ec-352a2c6626d2",
   "metadata": {},
   "source": [
    "`lr` is the learning rate. `device` specifies whether to train with GPU or CPU.\n",
    "\n",
    "`epoch_num` is the maximum number of training epochs (default = 500). If no improvement is observed on the validation set within `epo_max` epochs, training is considered converged and will stop (default `epo_max=30`)."
   ]
  },
  {
   "cell_type": "markdown",
   "id": "653e29e6-eaba-4cfd-91bc-84fa2ad011f8",
   "metadata": {},
   "source": [
    "`alpha` represents the weight of the constraint on the similarity between peak embeddings of spatial data. The default value is 10. A larger `alpha` means the model relies more on single-cell prior information. \n",
    "\n",
    "`beta` represents the importance of image information for spot embedding. The default value is 1. A larger `beta` means the model relies more on image information."
   ]
  },
  {
   "cell_type": "code",
   "execution_count": 7,
   "id": "04be7f7a-69eb-4ec5-84de-4a1fce4433f4",
   "metadata": {
    "scrolled": true,
    "tags": []
   },
   "outputs": [
    {
     "name": "stdout",
     "output_type": "stream",
     "text": [
      "Use spatial information...\n",
      "Starting training...\n",
      "trainset:  (7809, 245219) (204350, 9370)\n"
     ]
    },
    {
     "name": "stderr",
     "output_type": "stream",
     "text": [
      "  0%|          | 0/8 [00:00<?, ?it/s]/home/wangshuyan/workspace/project/SPEED/upload/environment/SPEED/SPEED/utils.py:104: UserWarning: Sparse CSR tensor support is in beta state. If you miss a functionality in the sparse tensor support, please submit a feature request to https://github.com/pytorch/pytorch/issues. (Triggered internally at ../aten/src/ATen/SparseCsrTensorImpl.cpp:54.)\n",
      "  return torch.sparse_csr_tensor(temp.indptr,temp.indices, temp.data, size=temp.shape)\n",
      "100%|██████████| 8/8 [00:19<00:00,  2.42s/it]\n",
      "100%|██████████| 2/2 [00:01<00:00,  1.47it/s]\n"
     ]
    },
    {
     "name": "stdout",
     "output_type": "stream",
     "text": [
      "Epoch[1/500], Loss: 0.86955, Val Loss: 0.86762, \n"
     ]
    },
    {
     "name": "stderr",
     "output_type": "stream",
     "text": [
      "100%|██████████| 8/8 [00:19<00:00,  2.50s/it]\n",
      "100%|██████████| 2/2 [00:01<00:00,  1.22it/s]\n"
     ]
    },
    {
     "name": "stdout",
     "output_type": "stream",
     "text": [
      "Epoch[2/500], Loss: 0.86895, Val Loss: 0.86786, \n"
     ]
    },
    {
     "name": "stderr",
     "output_type": "stream",
     "text": [
      "100%|██████████| 8/8 [00:20<00:00,  2.51s/it]\n",
      "100%|██████████| 2/2 [00:01<00:00,  1.15it/s]\n"
     ]
    },
    {
     "name": "stdout",
     "output_type": "stream",
     "text": [
      "Epoch[3/500], Loss: 0.86744, Val Loss: 0.86627, \n"
     ]
    },
    {
     "name": "stderr",
     "output_type": "stream",
     "text": [
      "100%|██████████| 8/8 [00:20<00:00,  2.54s/it]\n",
      "100%|██████████| 2/2 [00:01<00:00,  1.25it/s]\n"
     ]
    },
    {
     "name": "stdout",
     "output_type": "stream",
     "text": [
      "Epoch[4/500], Loss: 0.86524, Val Loss: 0.86435, \n"
     ]
    },
    {
     "name": "stderr",
     "output_type": "stream",
     "text": [
      "100%|██████████| 8/8 [00:20<00:00,  2.53s/it]\n",
      "100%|██████████| 2/2 [00:01<00:00,  1.15it/s]\n"
     ]
    },
    {
     "name": "stdout",
     "output_type": "stream",
     "text": [
      "Epoch[5/500], Loss: 0.86336, Val Loss: 0.86189, \n"
     ]
    },
    {
     "name": "stderr",
     "output_type": "stream",
     "text": [
      "100%|██████████| 8/8 [00:20<00:00,  2.57s/it]\n",
      "100%|██████████| 2/2 [00:01<00:00,  1.10it/s]\n"
     ]
    },
    {
     "name": "stdout",
     "output_type": "stream",
     "text": [
      "Epoch[6/500], Loss: 0.86147, Val Loss: 0.86035, \n"
     ]
    },
    {
     "name": "stderr",
     "output_type": "stream",
     "text": [
      "100%|██████████| 8/8 [00:20<00:00,  2.54s/it]\n",
      "100%|██████████| 2/2 [00:01<00:00,  1.20it/s]\n"
     ]
    },
    {
     "name": "stdout",
     "output_type": "stream",
     "text": [
      "Epoch[7/500], Loss: 0.85942, Val Loss: 0.85643, \n"
     ]
    },
    {
     "name": "stderr",
     "output_type": "stream",
     "text": [
      "100%|██████████| 8/8 [00:20<00:00,  2.60s/it]\n",
      "100%|██████████| 2/2 [00:02<00:00,  1.03s/it]\n"
     ]
    },
    {
     "name": "stdout",
     "output_type": "stream",
     "text": [
      "Epoch[8/500], Loss: 0.85776, Val Loss: 0.85600, \n"
     ]
    },
    {
     "name": "stderr",
     "output_type": "stream",
     "text": [
      "100%|██████████| 8/8 [00:20<00:00,  2.57s/it]\n",
      "100%|██████████| 2/2 [00:01<00:00,  1.12it/s]\n"
     ]
    },
    {
     "name": "stdout",
     "output_type": "stream",
     "text": [
      "Epoch[9/500], Loss: 0.85609, Val Loss: 0.85489, \n"
     ]
    },
    {
     "name": "stderr",
     "output_type": "stream",
     "text": [
      "100%|██████████| 8/8 [00:20<00:00,  2.58s/it]\n",
      "100%|██████████| 2/2 [00:01<00:00,  1.13it/s]\n"
     ]
    },
    {
     "name": "stdout",
     "output_type": "stream",
     "text": [
      "Epoch[10/500], Loss: 0.85437, Val Loss: 0.85245, \n"
     ]
    },
    {
     "name": "stderr",
     "output_type": "stream",
     "text": [
      "100%|██████████| 8/8 [00:20<00:00,  2.51s/it]\n",
      "100%|██████████| 2/2 [00:01<00:00,  1.18it/s]\n"
     ]
    },
    {
     "name": "stdout",
     "output_type": "stream",
     "text": [
      "Epoch[11/500], Loss: 0.85246, Val Loss: 0.84992, \n"
     ]
    },
    {
     "name": "stderr",
     "output_type": "stream",
     "text": [
      "100%|██████████| 8/8 [00:20<00:00,  2.54s/it]\n",
      "100%|██████████| 2/2 [00:01<00:00,  1.14it/s]\n"
     ]
    },
    {
     "name": "stdout",
     "output_type": "stream",
     "text": [
      "Epoch[12/500], Loss: 0.85066, Val Loss: 0.84763, \n"
     ]
    },
    {
     "name": "stderr",
     "output_type": "stream",
     "text": [
      "100%|██████████| 8/8 [00:20<00:00,  2.59s/it]\n",
      "100%|██████████| 2/2 [00:01<00:00,  1.08it/s]\n"
     ]
    },
    {
     "name": "stdout",
     "output_type": "stream",
     "text": [
      "Epoch[13/500], Loss: 0.84903, Val Loss: 0.84766, \n"
     ]
    },
    {
     "name": "stderr",
     "output_type": "stream",
     "text": [
      "100%|██████████| 8/8 [00:20<00:00,  2.61s/it]\n",
      "100%|██████████| 2/2 [00:01<00:00,  1.08it/s]\n"
     ]
    },
    {
     "name": "stdout",
     "output_type": "stream",
     "text": [
      "Epoch[14/500], Loss: 0.84731, Val Loss: 0.84530, \n"
     ]
    },
    {
     "name": "stderr",
     "output_type": "stream",
     "text": [
      "100%|██████████| 8/8 [00:20<00:00,  2.57s/it]\n",
      "100%|██████████| 2/2 [00:01<00:00,  1.15it/s]\n"
     ]
    },
    {
     "name": "stdout",
     "output_type": "stream",
     "text": [
      "Epoch[15/500], Loss: 0.84602, Val Loss: 0.84621, \n"
     ]
    },
    {
     "name": "stderr",
     "output_type": "stream",
     "text": [
      "100%|██████████| 8/8 [00:20<00:00,  2.56s/it]\n",
      "100%|██████████| 2/2 [00:01<00:00,  1.15it/s]\n"
     ]
    },
    {
     "name": "stdout",
     "output_type": "stream",
     "text": [
      "Epoch[16/500], Loss: 0.84474, Val Loss: 0.84445, \n"
     ]
    },
    {
     "name": "stderr",
     "output_type": "stream",
     "text": [
      "100%|██████████| 8/8 [00:20<00:00,  2.56s/it]\n",
      "100%|██████████| 2/2 [00:01<00:00,  1.14it/s]\n"
     ]
    },
    {
     "name": "stdout",
     "output_type": "stream",
     "text": [
      "Epoch[17/500], Loss: 0.84383, Val Loss: 0.84484, \n"
     ]
    },
    {
     "name": "stderr",
     "output_type": "stream",
     "text": [
      "100%|██████████| 8/8 [00:20<00:00,  2.56s/it]\n",
      "100%|██████████| 2/2 [00:01<00:00,  1.15it/s]\n"
     ]
    },
    {
     "name": "stdout",
     "output_type": "stream",
     "text": [
      "Epoch[18/500], Loss: 0.84268, Val Loss: 0.84359, \n"
     ]
    },
    {
     "name": "stderr",
     "output_type": "stream",
     "text": [
      "100%|██████████| 8/8 [00:20<00:00,  2.55s/it]\n",
      "100%|██████████| 2/2 [00:01<00:00,  1.13it/s]\n"
     ]
    },
    {
     "name": "stdout",
     "output_type": "stream",
     "text": [
      "Epoch[19/500], Loss: 0.84199, Val Loss: 0.84330, \n"
     ]
    },
    {
     "name": "stderr",
     "output_type": "stream",
     "text": [
      "100%|██████████| 8/8 [00:20<00:00,  2.56s/it]\n",
      "100%|██████████| 2/2 [00:01<00:00,  1.13it/s]\n"
     ]
    },
    {
     "name": "stdout",
     "output_type": "stream",
     "text": [
      "Epoch[20/500], Loss: 0.84126, Val Loss: 0.84392, \n"
     ]
    },
    {
     "name": "stderr",
     "output_type": "stream",
     "text": [
      "100%|██████████| 8/8 [00:20<00:00,  2.55s/it]\n",
      "100%|██████████| 2/2 [00:01<00:00,  1.11it/s]\n"
     ]
    },
    {
     "name": "stdout",
     "output_type": "stream",
     "text": [
      "Epoch[21/500], Loss: 0.84067, Val Loss: 0.84347, \n"
     ]
    },
    {
     "name": "stderr",
     "output_type": "stream",
     "text": [
      "100%|██████████| 8/8 [00:21<00:00,  2.64s/it]\n",
      "100%|██████████| 2/2 [00:02<00:00,  1.05s/it]\n"
     ]
    },
    {
     "name": "stdout",
     "output_type": "stream",
     "text": [
      "Epoch[22/500], Loss: 0.84026, Val Loss: 0.84361, \n"
     ]
    },
    {
     "name": "stderr",
     "output_type": "stream",
     "text": [
      "100%|██████████| 8/8 [00:21<00:00,  2.70s/it]\n",
      "100%|██████████| 2/2 [00:02<00:00,  1.03s/it]\n"
     ]
    },
    {
     "name": "stdout",
     "output_type": "stream",
     "text": [
      "Epoch[23/500], Loss: 0.83979, Val Loss: 0.84260, \n"
     ]
    },
    {
     "name": "stderr",
     "output_type": "stream",
     "text": [
      "100%|██████████| 8/8 [00:20<00:00,  2.62s/it]\n",
      "100%|██████████| 2/2 [00:01<00:00,  1.12it/s]\n"
     ]
    },
    {
     "name": "stdout",
     "output_type": "stream",
     "text": [
      "Epoch[24/500], Loss: 0.83935, Val Loss: 0.84179, \n"
     ]
    },
    {
     "name": "stderr",
     "output_type": "stream",
     "text": [
      "100%|██████████| 8/8 [00:20<00:00,  2.60s/it]\n",
      "100%|██████████| 2/2 [00:01<00:00,  1.12it/s]\n"
     ]
    },
    {
     "name": "stdout",
     "output_type": "stream",
     "text": [
      "Epoch[25/500], Loss: 0.83882, Val Loss: 0.84163, \n"
     ]
    },
    {
     "name": "stderr",
     "output_type": "stream",
     "text": [
      "100%|██████████| 8/8 [00:20<00:00,  2.60s/it]\n",
      "100%|██████████| 2/2 [00:01<00:00,  1.08it/s]\n"
     ]
    },
    {
     "name": "stdout",
     "output_type": "stream",
     "text": [
      "Epoch[26/500], Loss: 0.83810, Val Loss: 0.84141, \n"
     ]
    },
    {
     "name": "stderr",
     "output_type": "stream",
     "text": [
      "100%|██████████| 8/8 [00:20<00:00,  2.60s/it]\n",
      "100%|██████████| 2/2 [00:01<00:00,  1.10it/s]\n"
     ]
    },
    {
     "name": "stdout",
     "output_type": "stream",
     "text": [
      "Epoch[27/500], Loss: 0.83776, Val Loss: 0.84155, \n"
     ]
    },
    {
     "name": "stderr",
     "output_type": "stream",
     "text": [
      "100%|██████████| 8/8 [00:20<00:00,  2.54s/it]\n",
      "100%|██████████| 2/2 [00:01<00:00,  1.05it/s]\n"
     ]
    },
    {
     "name": "stdout",
     "output_type": "stream",
     "text": [
      "Epoch[28/500], Loss: 0.83725, Val Loss: 0.84171, \n"
     ]
    },
    {
     "name": "stderr",
     "output_type": "stream",
     "text": [
      "100%|██████████| 8/8 [00:20<00:00,  2.58s/it]\n",
      "100%|██████████| 2/2 [00:01<00:00,  1.11it/s]\n"
     ]
    },
    {
     "name": "stdout",
     "output_type": "stream",
     "text": [
      "Epoch[29/500], Loss: 0.83690, Val Loss: 0.84214, \n"
     ]
    },
    {
     "name": "stderr",
     "output_type": "stream",
     "text": [
      "100%|██████████| 8/8 [00:20<00:00,  2.52s/it]\n",
      "100%|██████████| 2/2 [00:01<00:00,  1.14it/s]\n"
     ]
    },
    {
     "name": "stdout",
     "output_type": "stream",
     "text": [
      "Epoch[30/500], Loss: 0.83630, Val Loss: 0.84075, \n"
     ]
    },
    {
     "name": "stderr",
     "output_type": "stream",
     "text": [
      "100%|██████████| 8/8 [00:20<00:00,  2.61s/it]\n",
      "100%|██████████| 2/2 [00:01<00:00,  1.05it/s]\n"
     ]
    },
    {
     "name": "stdout",
     "output_type": "stream",
     "text": [
      "Epoch[31/500], Loss: 0.83602, Val Loss: 0.84199, \n"
     ]
    },
    {
     "name": "stderr",
     "output_type": "stream",
     "text": [
      "100%|██████████| 8/8 [00:20<00:00,  2.59s/it]\n",
      "100%|██████████| 2/2 [00:01<00:00,  1.12it/s]\n"
     ]
    },
    {
     "name": "stdout",
     "output_type": "stream",
     "text": [
      "Epoch[32/500], Loss: 0.83576, Val Loss: 0.84052, \n"
     ]
    },
    {
     "name": "stderr",
     "output_type": "stream",
     "text": [
      "100%|██████████| 8/8 [00:20<00:00,  2.59s/it]\n",
      "100%|██████████| 2/2 [00:01<00:00,  1.18it/s]\n"
     ]
    },
    {
     "name": "stdout",
     "output_type": "stream",
     "text": [
      "Epoch[33/500], Loss: 0.83504, Val Loss: 0.84230, \n"
     ]
    },
    {
     "name": "stderr",
     "output_type": "stream",
     "text": [
      "100%|██████████| 8/8 [00:20<00:00,  2.57s/it]\n",
      "100%|██████████| 2/2 [00:01<00:00,  1.10it/s]\n"
     ]
    },
    {
     "name": "stdout",
     "output_type": "stream",
     "text": [
      "Epoch[34/500], Loss: 0.83495, Val Loss: 0.84138, \n"
     ]
    },
    {
     "name": "stderr",
     "output_type": "stream",
     "text": [
      "100%|██████████| 8/8 [00:20<00:00,  2.61s/it]\n",
      "100%|██████████| 2/2 [00:01<00:00,  1.06it/s]\n"
     ]
    },
    {
     "name": "stdout",
     "output_type": "stream",
     "text": [
      "Epoch[35/500], Loss: 0.83446, Val Loss: 0.84128, \n"
     ]
    },
    {
     "name": "stderr",
     "output_type": "stream",
     "text": [
      "100%|██████████| 8/8 [00:20<00:00,  2.59s/it]\n",
      "100%|██████████| 2/2 [00:01<00:00,  1.14it/s]\n"
     ]
    },
    {
     "name": "stdout",
     "output_type": "stream",
     "text": [
      "Epoch[36/500], Loss: 0.83404, Val Loss: 0.84249, \n"
     ]
    },
    {
     "name": "stderr",
     "output_type": "stream",
     "text": [
      "100%|██████████| 8/8 [00:20<00:00,  2.60s/it]\n",
      "100%|██████████| 2/2 [00:01<00:00,  1.10it/s]\n"
     ]
    },
    {
     "name": "stdout",
     "output_type": "stream",
     "text": [
      "Epoch[37/500], Loss: 0.83336, Val Loss: 0.84247, \n"
     ]
    },
    {
     "name": "stderr",
     "output_type": "stream",
     "text": [
      "100%|██████████| 8/8 [00:20<00:00,  2.59s/it]\n",
      "100%|██████████| 2/2 [00:01<00:00,  1.10it/s]\n"
     ]
    },
    {
     "name": "stdout",
     "output_type": "stream",
     "text": [
      "Epoch[38/500], Loss: 0.83298, Val Loss: 0.84182, \n"
     ]
    },
    {
     "name": "stderr",
     "output_type": "stream",
     "text": [
      "100%|██████████| 8/8 [00:21<00:00,  2.66s/it]\n",
      "100%|██████████| 2/2 [00:02<00:00,  1.03s/it]\n"
     ]
    },
    {
     "name": "stdout",
     "output_type": "stream",
     "text": [
      "Epoch[39/500], Loss: 0.83282, Val Loss: 0.84135, \n"
     ]
    },
    {
     "name": "stderr",
     "output_type": "stream",
     "text": [
      "100%|██████████| 8/8 [00:21<00:00,  2.69s/it]\n",
      "100%|██████████| 2/2 [00:01<00:00,  1.15it/s]\n"
     ]
    },
    {
     "name": "stdout",
     "output_type": "stream",
     "text": [
      "Epoch[40/500], Loss: 0.83219, Val Loss: 0.84137, \n"
     ]
    },
    {
     "name": "stderr",
     "output_type": "stream",
     "text": [
      "100%|██████████| 8/8 [00:20<00:00,  2.61s/it]\n",
      "100%|██████████| 2/2 [00:02<00:00,  1.05s/it]\n"
     ]
    },
    {
     "name": "stdout",
     "output_type": "stream",
     "text": [
      "Epoch[41/500], Loss: 0.83182, Val Loss: 0.84249, \n"
     ]
    },
    {
     "name": "stderr",
     "output_type": "stream",
     "text": [
      "100%|██████████| 8/8 [00:22<00:00,  2.75s/it]\n",
      "100%|██████████| 2/2 [00:02<00:00,  1.00s/it]\n"
     ]
    },
    {
     "name": "stdout",
     "output_type": "stream",
     "text": [
      "Epoch[42/500], Loss: 0.83168, Val Loss: 0.84162, \n"
     ]
    },
    {
     "name": "stderr",
     "output_type": "stream",
     "text": [
      "100%|██████████| 8/8 [00:21<00:00,  2.73s/it]\n",
      "100%|██████████| 2/2 [00:02<00:00,  1.00s/it]\n"
     ]
    },
    {
     "name": "stdout",
     "output_type": "stream",
     "text": [
      "Epoch[43/500], Loss: 0.83126, Val Loss: 0.84161, \n"
     ]
    },
    {
     "name": "stderr",
     "output_type": "stream",
     "text": [
      "100%|██████████| 8/8 [00:21<00:00,  2.73s/it]\n",
      "100%|██████████| 2/2 [00:02<00:00,  1.03s/it]\n"
     ]
    },
    {
     "name": "stdout",
     "output_type": "stream",
     "text": [
      "Epoch[44/500], Loss: 0.83068, Val Loss: 0.84193, \n"
     ]
    },
    {
     "name": "stderr",
     "output_type": "stream",
     "text": [
      "100%|██████████| 8/8 [00:20<00:00,  2.59s/it]\n",
      "100%|██████████| 2/2 [00:01<00:00,  1.09it/s]\n"
     ]
    },
    {
     "name": "stdout",
     "output_type": "stream",
     "text": [
      "Epoch[45/500], Loss: 0.83001, Val Loss: 0.84129, \n"
     ]
    },
    {
     "name": "stderr",
     "output_type": "stream",
     "text": [
      "100%|██████████| 8/8 [00:20<00:00,  2.58s/it]\n",
      "100%|██████████| 2/2 [00:01<00:00,  1.15it/s]\n"
     ]
    },
    {
     "name": "stdout",
     "output_type": "stream",
     "text": [
      "Epoch[46/500], Loss: 0.83010, Val Loss: 0.84087, \n"
     ]
    },
    {
     "name": "stderr",
     "output_type": "stream",
     "text": [
      "100%|██████████| 8/8 [00:20<00:00,  2.59s/it]\n",
      "100%|██████████| 2/2 [00:01<00:00,  1.15it/s]\n"
     ]
    },
    {
     "name": "stdout",
     "output_type": "stream",
     "text": [
      "Epoch[47/500], Loss: 0.82956, Val Loss: 0.84172, \n"
     ]
    },
    {
     "name": "stderr",
     "output_type": "stream",
     "text": [
      "100%|██████████| 8/8 [00:21<00:00,  2.71s/it]\n",
      "100%|██████████| 2/2 [00:02<00:00,  1.03s/it]\n"
     ]
    },
    {
     "name": "stdout",
     "output_type": "stream",
     "text": [
      "Epoch[48/500], Loss: 0.82938, Val Loss: 0.84206, \n"
     ]
    },
    {
     "name": "stderr",
     "output_type": "stream",
     "text": [
      "100%|██████████| 8/8 [00:22<00:00,  2.77s/it]\n",
      "100%|██████████| 2/2 [00:02<00:00,  1.00s/it]\n"
     ]
    },
    {
     "name": "stdout",
     "output_type": "stream",
     "text": [
      "Epoch[49/500], Loss: 0.82898, Val Loss: 0.84133, \n"
     ]
    },
    {
     "name": "stderr",
     "output_type": "stream",
     "text": [
      "100%|██████████| 8/8 [00:20<00:00,  2.58s/it]\n",
      "100%|██████████| 2/2 [00:01<00:00,  1.15it/s]\n"
     ]
    },
    {
     "name": "stdout",
     "output_type": "stream",
     "text": [
      "Epoch[50/500], Loss: 0.82846, Val Loss: 0.84076, \n"
     ]
    },
    {
     "name": "stderr",
     "output_type": "stream",
     "text": [
      "100%|██████████| 8/8 [00:20<00:00,  2.56s/it]\n",
      "100%|██████████| 2/2 [00:01<00:00,  1.14it/s]\n"
     ]
    },
    {
     "name": "stdout",
     "output_type": "stream",
     "text": [
      "Epoch[51/500], Loss: 0.82814, Val Loss: 0.84154, \n"
     ]
    },
    {
     "name": "stderr",
     "output_type": "stream",
     "text": [
      "100%|██████████| 8/8 [00:21<00:00,  2.65s/it]\n",
      "100%|██████████| 2/2 [00:02<00:00,  1.10s/it]\n"
     ]
    },
    {
     "name": "stdout",
     "output_type": "stream",
     "text": [
      "Epoch[52/500], Loss: 0.82793, Val Loss: 0.84104, \n"
     ]
    },
    {
     "name": "stderr",
     "output_type": "stream",
     "text": [
      "100%|██████████| 8/8 [00:20<00:00,  2.61s/it]\n",
      "100%|██████████| 2/2 [00:01<00:00,  1.06it/s]\n"
     ]
    },
    {
     "name": "stdout",
     "output_type": "stream",
     "text": [
      "Epoch[53/500], Loss: 0.82784, Val Loss: 0.84144, \n"
     ]
    },
    {
     "name": "stderr",
     "output_type": "stream",
     "text": [
      "100%|██████████| 8/8 [00:20<00:00,  2.59s/it]\n",
      "100%|██████████| 2/2 [00:01<00:00,  1.21it/s]\n"
     ]
    },
    {
     "name": "stdout",
     "output_type": "stream",
     "text": [
      "Epoch[54/500], Loss: 0.82745, Val Loss: 0.84216, \n"
     ]
    },
    {
     "name": "stderr",
     "output_type": "stream",
     "text": [
      "100%|██████████| 8/8 [00:20<00:00,  2.57s/it]\n",
      "100%|██████████| 2/2 [00:01<00:00,  1.21it/s]\n"
     ]
    },
    {
     "name": "stdout",
     "output_type": "stream",
     "text": [
      "Epoch[55/500], Loss: 0.82715, Val Loss: 0.84213, \n"
     ]
    },
    {
     "name": "stderr",
     "output_type": "stream",
     "text": [
      "100%|██████████| 8/8 [00:20<00:00,  2.58s/it]\n",
      "100%|██████████| 2/2 [00:01<00:00,  1.14it/s]\n"
     ]
    },
    {
     "name": "stdout",
     "output_type": "stream",
     "text": [
      "Epoch[56/500], Loss: 0.82727, Val Loss: 0.84095, \n"
     ]
    },
    {
     "name": "stderr",
     "output_type": "stream",
     "text": [
      "100%|██████████| 8/8 [00:20<00:00,  2.60s/it]\n",
      "100%|██████████| 2/2 [00:01<00:00,  1.17it/s]\n"
     ]
    },
    {
     "name": "stdout",
     "output_type": "stream",
     "text": [
      "Epoch[57/500], Loss: 0.82696, Val Loss: 0.84152, \n"
     ]
    },
    {
     "name": "stderr",
     "output_type": "stream",
     "text": [
      "100%|██████████| 8/8 [00:20<00:00,  2.62s/it]\n",
      "100%|██████████| 2/2 [00:01<00:00,  1.16it/s]\n"
     ]
    },
    {
     "name": "stdout",
     "output_type": "stream",
     "text": [
      "Epoch[58/500], Loss: 0.82646, Val Loss: 0.84053, \n"
     ]
    },
    {
     "name": "stderr",
     "output_type": "stream",
     "text": [
      "100%|██████████| 8/8 [00:20<00:00,  2.58s/it]\n",
      "100%|██████████| 2/2 [00:01<00:00,  1.18it/s]\n"
     ]
    },
    {
     "name": "stdout",
     "output_type": "stream",
     "text": [
      "Epoch[59/500], Loss: 0.82661, Val Loss: 0.84155, \n"
     ]
    },
    {
     "name": "stderr",
     "output_type": "stream",
     "text": [
      "100%|██████████| 8/8 [00:20<00:00,  2.58s/it]\n",
      "100%|██████████| 2/2 [00:01<00:00,  1.21it/s]\n"
     ]
    },
    {
     "name": "stdout",
     "output_type": "stream",
     "text": [
      "Epoch[60/500], Loss: 0.82596, Val Loss: 0.84205, \n"
     ]
    },
    {
     "name": "stderr",
     "output_type": "stream",
     "text": [
      "100%|██████████| 8/8 [00:20<00:00,  2.59s/it]\n",
      "100%|██████████| 2/2 [00:01<00:00,  1.16it/s]\n"
     ]
    },
    {
     "name": "stdout",
     "output_type": "stream",
     "text": [
      "Epoch[61/500], Loss: 0.82562, Val Loss: 0.84239, \n"
     ]
    },
    {
     "name": "stderr",
     "output_type": "stream",
     "text": [
      "100%|██████████| 8/8 [00:20<00:00,  2.58s/it]\n",
      "100%|██████████| 2/2 [00:01<00:00,  1.16it/s]\n"
     ]
    },
    {
     "name": "stdout",
     "output_type": "stream",
     "text": [
      "Epoch[62/500], Loss: 0.82576, Val Loss: 0.84169, \n",
      "convinient\n"
     ]
    }
   ],
   "source": [
    "speed.train(lr=1e-5, device='cuda:2')"
   ]
  },
  {
   "cell_type": "markdown",
   "id": "e9ba11e5-ed6d-4283-80ac-8cd7cca98b3a",
   "metadata": {},
   "source": [
    "## Get the results"
   ]
  },
  {
   "cell_type": "markdown",
   "id": "478d9113-3401-4872-9cf1-2b7e9e915071",
   "metadata": {},
   "source": [
    "Use `SPEED.SPEED.get_embedding` to get the low-dimensional embedding.\n",
    "\n",
    "The spot/cell embeddings will be stored in `adata.obsm['X_SPEED']`. The peak embeddings will be stored in `adata.varm['peak_SPEED']`"
   ]
  },
  {
   "cell_type": "code",
   "execution_count": 8,
   "id": "28d98440-4b41-4437-9aaa-a1788a81a4ac",
   "metadata": {
    "tags": []
   },
   "outputs": [
    {
     "name": "stdout",
     "output_type": "stream",
     "text": [
      "get cell/spot embedding...\n"
     ]
    },
    {
     "name": "stderr",
     "output_type": "stream",
     "text": [
      "100%|██████████| 5/5 [00:04<00:00,  1.13it/s]\n"
     ]
    },
    {
     "name": "stdout",
     "output_type": "stream",
     "text": [
      "get peak embedding...\n"
     ]
    },
    {
     "name": "stderr",
     "output_type": "stream",
     "text": [
      "100%|██████████| 5/5 [00:01<00:00,  4.31it/s]\n"
     ]
    },
    {
     "name": "stdout",
     "output_type": "stream",
     "text": [
      "get spatial embedding...\n"
     ]
    },
    {
     "name": "stderr",
     "output_type": "stream",
     "text": [
      "  0%|          | 0/5 [00:00<?, ?it/s]"
     ]
    },
    {
     "name": "stdout",
     "output_type": "stream",
     "text": [
      "(1875, 9370)\n",
      "(1875, 9370)\n"
     ]
    },
    {
     "name": "stderr",
     "output_type": "stream",
     "text": [
      "100%|██████████| 5/5 [00:00<00:00, 24.61it/s]"
     ]
    },
    {
     "name": "stdout",
     "output_type": "stream",
     "text": [
      "(1875, 9370)\n",
      "(1875, 9370)\n",
      "(1870, 9370)\n",
      "the shape of embedding: (9370, 32)\n"
     ]
    },
    {
     "name": "stderr",
     "output_type": "stream",
     "text": [
      "\n"
     ]
    }
   ],
   "source": [
    "adata = speed.get_embedding(adata)"
   ]
  },
  {
   "cell_type": "markdown",
   "id": "f45c07bd-8512-4f42-90ec-eff3aaa57c5a",
   "metadata": {},
   "source": [
    "Use `SPEED.SPEED.get_denoise_result` to get the denoised matrix."
   ]
  },
  {
   "cell_type": "code",
   "execution_count": 9,
   "id": "8572f719-a98e-45af-8bc4-bd7965530e39",
   "metadata": {},
   "outputs": [],
   "source": [
    "adata.X = speed.get_denoise_result()"
   ]
  },
  {
   "cell_type": "code",
   "execution_count": 10,
   "id": "acffa79c-983c-4e83-b90a-0a317867f24f",
   "metadata": {},
   "outputs": [
    {
     "name": "stderr",
     "output_type": "stream",
     "text": [
      "100%|██████████| 9370/9370 [00:29<00:00, 313.07it/s]\n",
      "100%|██████████| 245219/245219 [01:27<00:00, 2797.61it/s]\n"
     ]
    }
   ],
   "source": [
    "adata = speed.binarize(adata)"
   ]
  },
  {
   "cell_type": "code",
   "execution_count": 11,
   "id": "d0452104-ec01-4ced-aebc-413fd8a9f41a",
   "metadata": {},
   "outputs": [],
   "source": [
    "adata.write(f'H3K27ac_out/adata_speed_cpu.h5ad')"
   ]
  },
  {
   "cell_type": "code",
   "execution_count": 12,
   "id": "610b9cac-a78b-4de9-bc7d-e4238cc75a5c",
   "metadata": {},
   "outputs": [],
   "source": [
    "exit"
   ]
  },
  {
   "cell_type": "code",
   "execution_count": null,
   "id": "562d9ab6-9777-4bd5-80fb-d5734ba3e196",
   "metadata": {},
   "outputs": [],
   "source": []
  }
 ],
 "metadata": {
  "kernelspec": {
   "display_name": "python37-speed",
   "language": "python",
   "name": "python37-speed"
  },
  "language_info": {
   "codemirror_mode": {
    "name": "ipython",
    "version": 3
   },
   "file_extension": ".py",
   "mimetype": "text/x-python",
   "name": "python",
   "nbconvert_exporter": "python",
   "pygments_lexer": "ipython3",
   "version": "3.7.2"
  }
 },
 "nbformat": 4,
 "nbformat_minor": 5
}
